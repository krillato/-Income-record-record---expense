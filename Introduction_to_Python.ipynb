{
  "nbformat": 4,
  "nbformat_minor": 0,
  "metadata": {
    "kernelspec": {
      "name": "python36",
      "display_name": "Python 3.6",
      "language": "python"
    },
    "language_info": {
      "mimetype": "text/x-python",
      "nbconvert_exporter": "python",
      "name": "python",
      "pygments_lexer": "ipython3",
      "version": "3.6.6",
      "file_extension": ".py",
      "codemirror_mode": {
        "version": 3,
        "name": "ipython"
      }
    },
    "colab": {
      "name": "DAT_DAML_DAY01_Introduction_to_Python.ipynb",
      "provenance": [],
      "collapsed_sections": [
        "Jqx7k-1NbfHn",
        "YTYcT3EbewU0",
        "Nv8UnNUpOu0k",
        "DymVeTLO6Erd",
        "7FTpJAKk7Tg7",
        "UC2Ra9qZPOsz",
        "VBZEKMOF7bDj",
        "BhDadfb3dhs4",
        "laI7bWas7rym",
        "Ua3GZ23Nnkkc",
        "b2yjs7BnTdW2",
        "l8u-DA1JTki_",
        "xSeEFzIDV0If",
        "ypxHuW1aW2o9",
        "uyfxzC1SuQQs",
        "eLVfqsHMT-Yl",
        "L9ILtCDUWywY",
        "DMbN_tYq50kD",
        "YvCCeivtnV93",
        "_eDzl3NfnZXt",
        "CmZeEXfEqPGI",
        "tGl4glh9Ljv0",
        "GjXcJeQcP7w6",
        "tVwmOo6QZB5t",
        "beQBwyKlZN8M",
        "4vNcOVDvX2Ly",
        "rha54oFXX-V1",
        "vgAXa2ukdwUL",
        "65WZaiC7ABCO",
        "GxHarYyefzUM",
        "tEoGJW8Fd-35",
        "OIyv5w1KbfKf",
        "dVbSIIGobfN-",
        "DYHeXE-TLI8i",
        "_lEnvxWjLpNK",
        "AuLA9HssLSQW",
        "1REG9IxBKuVD",
        "inHrwponYktC",
        "noahZuimKutH",
        "5LOzPjrQaBd4",
        "mU94HVYvm9CN",
        "5sKGWFr7LI3h",
        "FpMBJAymAeRj",
        "034k9C87gJGw",
        "9efXIyGqAkVU",
        "JNmskqiD47BU",
        "b7JGBMprBf_P",
        "YVjrVyLn_6fe",
        "mUBrf8JVtcbH"
      ],
      "include_colab_link": true
    },
    "accelerator": "GPU"
  },
  "cells": [
    {
      "cell_type": "markdown",
      "metadata": {
        "id": "view-in-github",
        "colab_type": "text"
      },
      "source": [
        "<a href=\"https://colab.research.google.com/github/krillato/-Income-record-record---expense/blob/main/Introduction_to_Python.ipynb\" target=\"_parent\"><img src=\"https://colab.research.google.com/assets/colab-badge.svg\" alt=\"Open In Colab\"/></a>"
      ]
    },
    {
      "cell_type": "markdown",
      "metadata": {
        "id": "VlFZpyZUbfHg"
      },
      "source": [
        "<div style=\"text-align: center\"><img src=\"https://www.python.org/static/img/python-logo.png\" height=\"35\"><a href='https://mike.cpe.ku.ac.th/01204111' target='_blank'><img src=\"https://mike.cpe.ku.ac.th/~un/images/logo_mike.png\"></a></div>\n",
        "\n"
      ]
    },
    {
      "cell_type": "markdown",
      "metadata": {
        "id": "Jqx7k-1NbfHn"
      },
      "source": [
        "# An introduction to Python\n",
        "\n",
        "Python is a popular programming language that is reliable, flexible, easy to learn, free to use on all operating systems, and supported by both a strong developer community and many free libraries. Python supports all manners of development, including web applications, web services, desktop apps, scripting, data science, scientific computing, and Jupyter notebooks. Python is a language used by many universities, scientists, casual developers, and professional developers alike.\n",
        "\n",
        "> **Note**: This notebook is designed to have you run code cells one by one, and several code cells contain deliberate errors for demonstration purposes. As a result, if you use the **Cell** > **Run All** command, some code cells past the error won't be run. To resume running the code in each case, use **Cell** > **Run All Below** from the cell after the error."
      ]
    },
    {
      "cell_type": "code",
      "metadata": {
        "id": "BUVNtJwIyczM",
        "colab": {
          "base_uri": "https://localhost:8080/"
        },
        "outputId": "b1a7da2f-1259-4d64-ad19-8bcc9fae35e4"
      },
      "source": [
        "print('The \"Hello, World to Python\", for DAT Round01 (DAY1: 14MAR2020)')\n",
        "print('Brought to you by MikeLab.Net @2020')\n",
        "print('\\tLast updated: 14MAR2020..')"
      ],
      "execution_count": 1,
      "outputs": [
        {
          "output_type": "stream",
          "name": "stdout",
          "text": [
            "The \"Hello, World to Python\", for DAT Round01 (DAY1: 14MAR2020)\n",
            "Brought to you by MikeLab.Net @2020\n",
            "\tLast updated: 14MAR2020..\n"
          ]
        }
      ]
    },
    {
      "cell_type": "markdown",
      "metadata": {
        "id": "YTYcT3EbewU0"
      },
      "source": [
        "## The Zen of Python.."
      ]
    },
    {
      "cell_type": "code",
      "metadata": {
        "id": "ZLLK_hVAeU8L"
      },
      "source": [
        "# added by Kun Toto\n",
        "import this "
      ],
      "execution_count": 38,
      "outputs": []
    },
    {
      "cell_type": "markdown",
      "metadata": {
        "id": "Nv8UnNUpOu0k"
      },
      "source": [
        "##Python's Hello World.."
      ]
    },
    {
      "cell_type": "code",
      "metadata": {
        "id": "W2gXxhyMO4N6",
        "colab": {
          "base_uri": "https://localhost:8080/"
        },
        "outputId": "dd76abc9-835f-424e-b891-b1cb3ca4492f"
      },
      "source": [
        "print(\"Hello, World..\")"
      ],
      "execution_count": 39,
      "outputs": [
        {
          "output_type": "stream",
          "name": "stdout",
          "text": [
            "Hello, World..\n"
          ]
        }
      ]
    },
    {
      "cell_type": "markdown",
      "metadata": {
        "id": "NQ4QSYMHPDwl"
      },
      "source": [
        "* `print()` is a built-in Python function that will print the argument string to the default output, ie., the screen.\n",
        "\n",
        "* In Python, string can be a sequence of any printable character that are written within the double `\"` or single quote `'`. The escape sequences `\\n` (newline) and `\\t` (tab) are sometimes found in string, too."
      ]
    },
    {
      "cell_type": "code",
      "metadata": {
        "id": "Vn27SFciP82T",
        "colab": {
          "base_uri": "https://localhost:8080/"
        },
        "outputId": "1c084df6-1d2e-4653-a73f-3ea4263247e1"
      },
      "source": [
        "print('Hello, lady and gentlemen:\\n\\t- Welcome to DAT@KU_SRC.\\n\\t- We hope you will enjoy our course!')"
      ],
      "execution_count": 4,
      "outputs": [
        {
          "output_type": "stream",
          "name": "stdout",
          "text": [
            "Hello, lady and gentlemen:\n",
            "\t- Welcome to DAT@KU_SRC.\n",
            "\t- We hope you will enjoy our course!\n"
          ]
        }
      ]
    },
    {
      "cell_type": "markdown",
      "metadata": {
        "id": "KGtWvGnaQs8M"
      },
      "source": [
        "* In case we need to print either double `\"` or single quote `'`, we can easily do in many ways."
      ]
    },
    {
      "cell_type": "code",
      "metadata": {
        "id": "k__xZxo3Q5xo",
        "colab": {
          "base_uri": "https://localhost:8080/"
        },
        "outputId": "a6eb31ec-6320-404b-f6de-d12f874da063"
      },
      "source": [
        "print(\"'หวังว่าทุกท่านจะสนุกกับการเรียนการสอนที่พวกเราชาว DAT_KU ได้มอบให้ตลอดวันนี้นะครับ'\")"
      ],
      "execution_count": 5,
      "outputs": [
        {
          "output_type": "stream",
          "name": "stdout",
          "text": [
            "'หวังว่าทุกท่านจะสนุกกับการเรียนการสอนที่พวกเราชาว DAT_KU ได้มอบให้ตลอดวันนี้นะครับ'\n"
          ]
        }
      ]
    },
    {
      "cell_type": "code",
      "metadata": {
        "id": "lHaGkByjRNhn",
        "colab": {
          "base_uri": "https://localhost:8080/"
        },
        "outputId": "5371c025-6560-4e9b-efef-28b76eb8166c"
      },
      "source": [
        "print(\"\\\"Today\\'s one of the greatest days to begin learning Python.\\\"\")"
      ],
      "execution_count": 6,
      "outputs": [
        {
          "output_type": "stream",
          "name": "stdout",
          "text": [
            "\"Today's one of the greatest days to begin learning Python.\"\n"
          ]
        }
      ]
    },
    {
      "cell_type": "markdown",
      "metadata": {
        "id": "Uj-K9troR2kn"
      },
      "source": [
        "* When we put more strings as the arguments of a `print()` command, separated each by comma, Python will consecutively print those strings one by one and separated them with a space."
      ]
    },
    {
      "cell_type": "code",
      "metadata": {
        "id": "j3BNtG3SScb-",
        "colab": {
          "base_uri": "https://localhost:8080/"
        },
        "outputId": "f1d00ec1-e94f-4930-d182-ef14ef86c056"
      },
      "source": [
        "print('Hello,', \"welcome to the\", 'Pythonion', \"World!\")"
      ],
      "execution_count": 7,
      "outputs": [
        {
          "output_type": "stream",
          "name": "stdout",
          "text": [
            "Hello, welcome to the Pythonion World!\n"
          ]
        }
      ]
    },
    {
      "cell_type": "markdown",
      "metadata": {
        "id": "64xFRk7gS0pZ"
      },
      "source": [
        "* By default, the `print()` command will insert the `\\n` at the end of its input arguments. However, we can modify that with the additional `end=\" \"` parameter."
      ]
    },
    {
      "cell_type": "code",
      "metadata": {
        "id": "dHAcQnqoTPnM",
        "colab": {
          "base_uri": "https://localhost:8080/"
        },
        "outputId": "a347921f-65df-4cf2-80c0-8a3ac077f26d"
      },
      "source": [
        "print('There must be some word today.', end=' // ')\n",
        "print('From my boyfriend so far away.')\n",
        "print('Please Mr. Postman look and see.', end=\" // \")\n",
        "print('If there\\'s a letter a letter for me.')"
      ],
      "execution_count": 41,
      "outputs": [
        {
          "output_type": "stream",
          "name": "stdout",
          "text": [
            "There must be some word today. // From my boyfriend so far away.\n",
            "Please Mr. Postman look and see. // If there's a letter a letter for me.\n"
          ]
        }
      ]
    },
    {
      "cell_type": "markdown",
      "metadata": {
        "id": "DymVeTLO6Erd"
      },
      "source": [
        "##Your exercise 1:\n"
      ]
    },
    {
      "cell_type": "markdown",
      "metadata": {
        "id": "BRdY-maGU8Nt"
      },
      "source": [
        "\n",
        "Write a program that shows this content on screen, using the only following 4 `print()` commands.\n",
        "\n",
        "\n",
        "---\n",
        "\n",
        "\n",
        "EARTH FROM SPACE\n",
        "\n",
        "The blue marble as seen from space. We hear the calm voice of Jerry Maguire, talking just to us.\n",
        "\n",
        "JERRY: Alright so this is the world and there are five billion people on it. When I was a kid there were three, It is hard to keep up.\n",
        "\n",
        "AMERICA FROM SPACE\n",
        "\n",
        "The great continent through mist and swirling skies.\n",
        "(Satellites and other pieces of sky casting equipment float by.)\n",
        "\n",
        "JERRY: That is better. That is America.\n",
        "See, America still sets the tone for the world...\n",
        "\n",
        "\n",
        "---\n",
        "\n",
        "\n"
      ]
    },
    {
      "cell_type": "code",
      "metadata": {
        "id": "75PIX9ZvVQ-q",
        "colab": {
          "base_uri": "https://localhost:8080/"
        },
        "outputId": "daee4c9f-44b8-4a2d-d94b-415cc7145ec8"
      },
      "source": [
        "print('EARTH FROM SPACE')\n",
        "print('\\t- replace me with your solution')\n",
        "print('\\t- replace me with your solution')\n",
        "print('\\t- replace me with your solution')"
      ],
      "execution_count": 42,
      "outputs": [
        {
          "output_type": "stream",
          "name": "stdout",
          "text": [
            "EARTH FROM SPACE\n",
            "\t- replace me with your solution\n",
            "\t- replace me with your solution\n",
            "\t- replace me with your solution\n"
          ]
        }
      ]
    },
    {
      "cell_type": "markdown",
      "metadata": {
        "id": "7FTpJAKk7Tg7"
      },
      "source": [
        "## Comments"
      ]
    },
    {
      "cell_type": "markdown",
      "metadata": {
        "id": "DgAtz36ZbfHr"
      },
      "source": [
        "* Comments in Python start with the *hash* character, <font color='00ff00'>`#`</font>, and extend to the end of the current line. A comment may appear at the start of a line or following whitespace or code, but not within a string literal. \n",
        "\n",
        "* A hash character within a string literal is just a hash character. Since comments are to clarify code and are not interpreted by Python, they may be omitted when typing in examples."
      ]
    },
    {
      "cell_type": "code",
      "metadata": {
        "trusted": true,
        "id": "IbND130CbfHv",
        "colab": {
          "base_uri": "https://localhost:8080/"
        },
        "outputId": "4bdb1d77-32ae-4d7c-f313-dceb0b82bada"
      },
      "source": [
        "# this is the first comment\n",
        "spam = 1  # and this is the second comment\n",
        "          # ... and now a third!\n",
        "text = \"# This is not a comment because it's inside a pair of double quotes.\"\n",
        "# print('This print() command is ignored, now.')\n",
        "print(text)"
      ],
      "execution_count": 43,
      "outputs": [
        {
          "output_type": "stream",
          "name": "stdout",
          "text": [
            "# This is not a comment because it's inside a pair of double quotes.\n"
          ]
        }
      ]
    },
    {
      "cell_type": "markdown",
      "metadata": {
        "id": "52fSZnmbfBEi"
      },
      "source": [
        "* There is *no multi-lines* comment in Python! However, if we need it, we can use **opened** and **closed** triple quotes (either `\"\"\"` or `'''`), as followed."
      ]
    },
    {
      "cell_type": "code",
      "metadata": {
        "id": "6PNYMK0efRik",
        "colab": {
          "base_uri": "https://localhost:8080/"
        },
        "outputId": "8ab688e2-0209-4526-ea68-dca75f62f78e"
      },
      "source": [
        "# this is the second comment\n",
        "import sys, platform\n",
        "\n",
        "'''This is an example of\n",
        "   a virtual multi-lines\n",
        "   comment.'''  \n",
        "''' print('Hi, my name is Python ' + sys.version) '''\n",
        "\n",
        "mystr = \"\"\"'This illustrates a multi-lines\n",
        "   comment in Python.'\"\"\"\n",
        "print(mystr)\n",
        "print('My Python version is ' + platform.python_version())"
      ],
      "execution_count": 46,
      "outputs": [
        {
          "output_type": "stream",
          "name": "stdout",
          "text": [
            "'This illustrates a multi-lines\n",
            "   comment in Python.'\n",
            "My Python version is 3.7.12\n"
          ]
        }
      ]
    },
    {
      "cell_type": "markdown",
      "metadata": {
        "id": "UC2Ra9qZPOsz"
      },
      "source": [
        "##Literal and basic datatypes"
      ]
    },
    {
      "cell_type": "markdown",
      "metadata": {
        "id": "d6_QyWstPX1F"
      },
      "source": [
        "A literal represents a <font color='ff00ff'>fixed-value object</font> in the code, such as `13`, `26.4`, `\"house\"`.\n",
        "\n",
        "An object value is always associated with a type (also known as a <font color='00ffff'>class</font>).\n",
        "\n",
        "Python comes with many built-in data types. Some basic built-in types are:\n",
        "\n",
        "* `int` for integers, e.g., `18`, `26`, `13829`\n",
        "* `float` for numbers that allow fractions, e.g., `281.829`, `5.0`, `2.9979e8`\n",
        "* `str` for sequences of characters, e.g., `\"Hello.\"`, `'How are you?'`, `\"I'm fine.\"` (Observe that either single quotes and double quotes may be used for enclosing strings.)\n",
        "\n",
        "The built-in function `type()` can be used to determine the data type of an object. \n",
        "\n",
        "For other built-in types, see [this page](https://docs.python.org/3/library/stdtypes.html#built-in-types)."
      ]
    },
    {
      "cell_type": "code",
      "metadata": {
        "id": "_U_CV1mlQ3f7",
        "colab": {
          "base_uri": "https://localhost:8080/"
        },
        "outputId": "78ad49cd-7dbd-49fb-88ba-8a919e1d4a43"
      },
      "source": [
        "type(10)"
      ],
      "execution_count": 12,
      "outputs": [
        {
          "output_type": "execute_result",
          "data": {
            "text/plain": [
              "int"
            ]
          },
          "metadata": {},
          "execution_count": 12
        }
      ]
    },
    {
      "cell_type": "code",
      "metadata": {
        "id": "qvpA3GkaQ5W3",
        "colab": {
          "base_uri": "https://localhost:8080/"
        },
        "outputId": "5e50a917-6e70-460a-9f3a-d259afdeda62"
      },
      "source": [
        "type(3.15)"
      ],
      "execution_count": 13,
      "outputs": [
        {
          "output_type": "execute_result",
          "data": {
            "text/plain": [
              "float"
            ]
          },
          "metadata": {},
          "execution_count": 13
        }
      ]
    },
    {
      "cell_type": "code",
      "metadata": {
        "id": "qzxpwcsGQ75Y",
        "colab": {
          "base_uri": "https://localhost:8080/"
        },
        "outputId": "f31537c3-7d0c-430a-b146-717fe2e4cabe"
      },
      "source": [
        "type(\"Hello, welcome to DAT..\")"
      ],
      "execution_count": 14,
      "outputs": [
        {
          "output_type": "execute_result",
          "data": {
            "text/plain": [
              "str"
            ]
          },
          "metadata": {},
          "execution_count": 14
        }
      ]
    },
    {
      "cell_type": "code",
      "metadata": {
        "id": "G3tA8kbsS81j",
        "colab": {
          "base_uri": "https://localhost:8080/"
        },
        "outputId": "892e5856-4d1e-4e14-8198-164b5044ea45"
      },
      "source": [
        "type(\"\"\"String with both ' and \" inside\"\"\")"
      ],
      "execution_count": 15,
      "outputs": [
        {
          "output_type": "execute_result",
          "data": {
            "text/plain": [
              "str"
            ]
          },
          "metadata": {},
          "execution_count": 15
        }
      ]
    },
    {
      "cell_type": "code",
      "metadata": {
        "id": "7RTw7dGSTHZJ",
        "colab": {
          "base_uri": "https://localhost:8080/"
        },
        "outputId": "214ab35d-cde3-4e6f-bbf4-d811ea47ecd9"
      },
      "source": [
        "type('''Another string with both ' and \" inside''')"
      ],
      "execution_count": 16,
      "outputs": [
        {
          "output_type": "execute_result",
          "data": {
            "text/plain": [
              "str"
            ]
          },
          "metadata": {},
          "execution_count": 16
        }
      ]
    },
    {
      "cell_type": "code",
      "metadata": {
        "id": "RYnNwY7sTMiZ",
        "colab": {
          "base_uri": "https://localhost:8080/"
        },
        "outputId": "8618d5ba-bb2d-4cad-a758-b4002ab3ed59"
      },
      "source": [
        "type(\"\"\"This form also supports multiple lines.\n",
        "Like this.\"\"\")"
      ],
      "execution_count": 17,
      "outputs": [
        {
          "output_type": "execute_result",
          "data": {
            "text/plain": [
              "str"
            ]
          },
          "metadata": {},
          "execution_count": 17
        }
      ]
    },
    {
      "cell_type": "markdown",
      "metadata": {
        "id": "VBZEKMOF7bDj"
      },
      "source": [
        "## Aritmetic expressions"
      ]
    },
    {
      "cell_type": "markdown",
      "metadata": {
        "id": "rQuD65aAbfID"
      },
      "source": [
        "* The Python interpreter can act as a simple calculator: type an (arithemetic) expression, it evaluates and then outputs the resulting **value**.\n",
        "\n",
        "* Expression syntax is straightforward: the operators `*`, `\\`, `+`, and `-` work just like in most other programming languages (such as Pascal or C); parentheses (`()`) can be used for grouping and order or *precedence*. For example:"
      ]
    },
    {
      "cell_type": "code",
      "metadata": {
        "trusted": true,
        "id": "KqFwR8SHbfIG",
        "colab": {
          "base_uri": "https://localhost:8080/"
        },
        "outputId": "803e10a8-65ab-4a67-9a91-d87cecb90dc9"
      },
      "source": [
        "2 + 2"
      ],
      "execution_count": 18,
      "outputs": [
        {
          "output_type": "execute_result",
          "data": {
            "text/plain": [
              "4"
            ]
          },
          "metadata": {},
          "execution_count": 18
        }
      ]
    },
    {
      "cell_type": "code",
      "metadata": {
        "trusted": true,
        "id": "Z9CUrIcHbfIO",
        "colab": {
          "base_uri": "https://localhost:8080/"
        },
        "outputId": "49522ebc-7393-4f4f-fb5b-d65642ad8f2c"
      },
      "source": [
        "50 - 5*6"
      ],
      "execution_count": 19,
      "outputs": [
        {
          "output_type": "execute_result",
          "data": {
            "text/plain": [
              "20"
            ]
          },
          "metadata": {},
          "execution_count": 19
        }
      ]
    },
    {
      "cell_type": "code",
      "metadata": {
        "trusted": true,
        "id": "4is7p3WabfIf",
        "colab": {
          "base_uri": "https://localhost:8080/"
        },
        "outputId": "1f426e61-c9d2-4b08-9b65-5349a17f8c99"
      },
      "source": [
        "8 / 5  # Division always returns a floating point number."
      ],
      "execution_count": 20,
      "outputs": [
        {
          "output_type": "execute_result",
          "data": {
            "text/plain": [
              "1.6"
            ]
          },
          "metadata": {},
          "execution_count": 20
        }
      ]
    },
    {
      "cell_type": "code",
      "metadata": {
        "trusted": true,
        "id": "CZ72Rs2BbfIW",
        "colab": {
          "base_uri": "https://localhost:8080/"
        },
        "outputId": "f43e1426-ec60-4240-a73f-6f6c41a1bbb1"
      },
      "source": [
        "(50 - 5*6) / 4"
      ],
      "execution_count": 21,
      "outputs": [
        {
          "output_type": "execute_result",
          "data": {
            "text/plain": [
              "5.0"
            ]
          },
          "metadata": {},
          "execution_count": 21
        }
      ]
    },
    {
      "cell_type": "code",
      "metadata": {
        "id": "cAa0ftMDer47",
        "colab": {
          "base_uri": "https://localhost:8080/"
        },
        "outputId": "4bdc9324-1bdc-4f0b-b582-b03a51d1d998"
      },
      "source": [
        "50-5*6/4"
      ],
      "execution_count": 22,
      "outputs": [
        {
          "output_type": "execute_result",
          "data": {
            "text/plain": [
              "42.5"
            ]
          },
          "metadata": {},
          "execution_count": 22
        }
      ]
    },
    {
      "cell_type": "markdown",
      "metadata": {
        "id": "k-EdZZdRX3lc"
      },
      "source": [
        "* Division (`/`) always returns a float. To do [floor division](https://docs.python.org/3.5/glossary.html#term-floor-division) and get an integer result (discarding any fractional result) you can use the `//` operator; to calculate the *remainder* you can use `%`:"
      ]
    },
    {
      "cell_type": "code",
      "metadata": {
        "trusted": true,
        "id": "iRvbcB-0bfIp",
        "colab": {
          "base_uri": "https://localhost:8080/"
        },
        "outputId": "3f017a92-639d-46b3-f7f7-5e22acab2562"
      },
      "source": [
        "17 / 3  # Classic division returns a float."
      ],
      "execution_count": 23,
      "outputs": [
        {
          "output_type": "execute_result",
          "data": {
            "text/plain": [
              "5.666666666666667"
            ]
          },
          "metadata": {},
          "execution_count": 23
        }
      ]
    },
    {
      "cell_type": "code",
      "metadata": {
        "trusted": true,
        "id": "hVOp_prkbfIx",
        "colab": {
          "base_uri": "https://localhost:8080/"
        },
        "outputId": "89df7767-03b1-44ee-a4df-a25c26fd0b9f"
      },
      "source": [
        "17 // 3  # Floor division discards the fractional part."
      ],
      "execution_count": 24,
      "outputs": [
        {
          "output_type": "execute_result",
          "data": {
            "text/plain": [
              "5"
            ]
          },
          "metadata": {},
          "execution_count": 24
        }
      ]
    },
    {
      "cell_type": "code",
      "metadata": {
        "trusted": true,
        "id": "wHDkbq2vbfI3",
        "colab": {
          "base_uri": "https://localhost:8080/"
        },
        "outputId": "109ed205-b908-4d59-9d1c-1395a435b17b"
      },
      "source": [
        "17 % 3  # The % operator returns the remainder of the division."
      ],
      "execution_count": 25,
      "outputs": [
        {
          "output_type": "execute_result",
          "data": {
            "text/plain": [
              "2"
            ]
          },
          "metadata": {},
          "execution_count": 25
        }
      ]
    },
    {
      "cell_type": "code",
      "metadata": {
        "trusted": true,
        "id": "tjz6q6i1bfI_",
        "colab": {
          "base_uri": "https://localhost:8080/"
        },
        "outputId": "04d5b91b-e173-4a8a-e14a-159801dd106b"
      },
      "source": [
        "5 + 3 * 2  "
      ],
      "execution_count": 26,
      "outputs": [
        {
          "output_type": "execute_result",
          "data": {
            "text/plain": [
              "11"
            ]
          },
          "metadata": {},
          "execution_count": 26
        }
      ]
    },
    {
      "cell_type": "markdown",
      "metadata": {
        "id": "MqHdlxE5bfJG"
      },
      "source": [
        "* Use the `**` operator to calculate powers:"
      ]
    },
    {
      "cell_type": "code",
      "metadata": {
        "trusted": true,
        "id": "kz9GQSOfbfJI",
        "colab": {
          "base_uri": "https://localhost:8080/"
        },
        "outputId": "846d6d44-65cb-42bd-cd46-82c41f5de6e8"
      },
      "source": [
        "5 ** 2  # 5 squared"
      ],
      "execution_count": 27,
      "outputs": [
        {
          "output_type": "execute_result",
          "data": {
            "text/plain": [
              "25"
            ]
          },
          "metadata": {},
          "execution_count": 27
        }
      ]
    },
    {
      "cell_type": "code",
      "metadata": {
        "trusted": true,
        "id": "QplDO__rbfJO",
        "colab": {
          "base_uri": "https://localhost:8080/"
        },
        "outputId": "6f2c9c3b-8c63-4832-8a66-f43d6f69fa83"
      },
      "source": [
        "2 ** 7  # 2 to the power of 7"
      ],
      "execution_count": 28,
      "outputs": [
        {
          "output_type": "execute_result",
          "data": {
            "text/plain": [
              "128"
            ]
          },
          "metadata": {},
          "execution_count": 28
        }
      ]
    },
    {
      "cell_type": "markdown",
      "metadata": {
        "id": "zpo1j_lQbfJV"
      },
      "source": [
        "* `**` has higher precedence than `-`; if you want a negative base, use parentheses:"
      ]
    },
    {
      "cell_type": "code",
      "metadata": {
        "trusted": true,
        "id": "19Je1gZHbfJX",
        "colab": {
          "base_uri": "https://localhost:8080/"
        },
        "outputId": "1f1b6edf-c4a6-42da-9ed3-92722eb5e2d5"
      },
      "source": [
        "-3**2  # Same as -(3**2)"
      ],
      "execution_count": 29,
      "outputs": [
        {
          "output_type": "execute_result",
          "data": {
            "text/plain": [
              "-9"
            ]
          },
          "metadata": {},
          "execution_count": 29
        }
      ]
    },
    {
      "cell_type": "code",
      "metadata": {
        "trusted": true,
        "id": "POrdCFKEbfJe",
        "colab": {
          "base_uri": "https://localhost:8080/"
        },
        "outputId": "5da3de46-23e0-4ee1-d9d6-539f547c63d5"
      },
      "source": [
        "(-3)**2"
      ],
      "execution_count": 30,
      "outputs": [
        {
          "output_type": "execute_result",
          "data": {
            "text/plain": [
              "9"
            ]
          },
          "metadata": {},
          "execution_count": 30
        }
      ]
    },
    {
      "cell_type": "markdown",
      "metadata": {
        "id": "UvQJy7ROkM-Z"
      },
      "source": [
        "* We can calculate $ \\sqrt[3]{8} $ with `8**(1/3)`"
      ]
    },
    {
      "cell_type": "code",
      "metadata": {
        "id": "N_MLu5F0kMQU",
        "colab": {
          "base_uri": "https://localhost:8080/"
        },
        "outputId": "c5845704-f484-4741-e207-5e29300282bf"
      },
      "source": [
        "8**(1/3)"
      ],
      "execution_count": 31,
      "outputs": [
        {
          "output_type": "execute_result",
          "data": {
            "text/plain": [
              "2.0"
            ]
          },
          "metadata": {},
          "execution_count": 31
        }
      ]
    },
    {
      "cell_type": "markdown",
      "metadata": {
        "id": "6PDvxkHMZDfT"
      },
      "source": [
        "* Note that when we use float as one of the operand of an arithmetic expression, the result is always a float value."
      ]
    },
    {
      "cell_type": "code",
      "metadata": {
        "id": "uImMU03rZmzI",
        "colab": {
          "base_uri": "https://localhost:8080/"
        },
        "outputId": "e99ec0fe-655e-4e8a-d576-b07bc91e5ef5"
      },
      "source": [
        "7.5 % 4"
      ],
      "execution_count": 32,
      "outputs": [
        {
          "output_type": "execute_result",
          "data": {
            "text/plain": [
              "3.5"
            ]
          },
          "metadata": {},
          "execution_count": 32
        }
      ]
    },
    {
      "cell_type": "code",
      "metadata": {
        "id": "vrfzeP0PZtcA",
        "colab": {
          "base_uri": "https://localhost:8080/"
        },
        "outputId": "7cdb787c-75e7-4f0d-b8fe-eda924528512"
      },
      "source": [
        "7 // 3.0"
      ],
      "execution_count": 33,
      "outputs": [
        {
          "output_type": "execute_result",
          "data": {
            "text/plain": [
              "2.0"
            ]
          },
          "metadata": {},
          "execution_count": 33
        }
      ]
    },
    {
      "cell_type": "markdown",
      "metadata": {
        "id": "BhDadfb3dhs4"
      },
      "source": [
        "##Your exercise 2:"
      ]
    },
    {
      "cell_type": "markdown",
      "metadata": {
        "id": "BNXHaifjeBxy"
      },
      "source": [
        "Write the following arithmetic expressions in Python.\n",
        "\n",
        "#####a) $ \\frac{3}{5} + \\frac{2}{10} $"
      ]
    },
    {
      "cell_type": "code",
      "metadata": {
        "id": "_ZiRV2skd2LD"
      },
      "source": [
        ""
      ],
      "execution_count": 46,
      "outputs": []
    },
    {
      "cell_type": "markdown",
      "metadata": {
        "id": "jhM9HFL5eHJU"
      },
      "source": [
        "#####b) $ 1 + 2 \\times 3 - 4 $"
      ]
    },
    {
      "cell_type": "code",
      "metadata": {
        "id": "MXJwtqdYeL6m"
      },
      "source": [
        ""
      ],
      "execution_count": 33,
      "outputs": []
    },
    {
      "cell_type": "markdown",
      "metadata": {
        "id": "Xrtws0l_eMsv"
      },
      "source": [
        "#####c) $ 5 \\times 6 + 7 \\times 8 - \\frac{2}{5} $"
      ]
    },
    {
      "cell_type": "code",
      "metadata": {
        "id": "F-I3iiZDeQmT"
      },
      "source": [
        ""
      ],
      "execution_count": 33,
      "outputs": []
    },
    {
      "cell_type": "markdown",
      "metadata": {
        "id": "ygy_AYetei-C"
      },
      "source": [
        "#####d) $ 3 \\times (4 + 1 - 2 \\times 5 + 6) $"
      ]
    },
    {
      "cell_type": "code",
      "metadata": {
        "id": "6gBTQhGHelgN"
      },
      "source": [
        ""
      ],
      "execution_count": 33,
      "outputs": []
    },
    {
      "cell_type": "markdown",
      "metadata": {
        "id": "tFMJMkfRemUD"
      },
      "source": [
        "#####e) $ \\frac{1 + 2 + 3 +4}{5 + 6 + 7 + 8} $"
      ]
    },
    {
      "cell_type": "code",
      "metadata": {
        "id": "Vhwx7DCFepGt"
      },
      "source": [
        ""
      ],
      "execution_count": 33,
      "outputs": []
    },
    {
      "cell_type": "markdown",
      "metadata": {
        "id": "E7oNPG8NetEX"
      },
      "source": [
        "#####f) $ 2 \\times \\frac{3 + 4}{5 + \\frac{6}{7}} $"
      ]
    },
    {
      "cell_type": "code",
      "metadata": {
        "id": "PLBQJD6Tetxo"
      },
      "source": [
        ""
      ],
      "execution_count": 33,
      "outputs": []
    },
    {
      "cell_type": "markdown",
      "metadata": {
        "id": "OFSWLkUMeyca"
      },
      "source": [
        "#####g) $\\frac{2^{3^4}+5^{6+7}}{22/7}$"
      ]
    },
    {
      "cell_type": "code",
      "metadata": {
        "id": "ficGVDZQfqsE"
      },
      "source": [
        ""
      ],
      "execution_count": 33,
      "outputs": []
    },
    {
      "cell_type": "markdown",
      "metadata": {
        "id": "82pu-3rLkm5B"
      },
      "source": [
        "#####h) $ \\sqrt[2]{\\left( 7 + 5 + 3 \\times 9 \\right)} $"
      ]
    },
    {
      "cell_type": "code",
      "metadata": {
        "id": "kT6rMKglko_2"
      },
      "source": [
        ""
      ],
      "execution_count": 33,
      "outputs": []
    },
    {
      "cell_type": "markdown",
      "metadata": {
        "id": "6LHuLkVVkply"
      },
      "source": [
        "#####i) $ \\frac{5 + 4^{2.75}}{\\sqrt[2]{2.5}} + 3^2 $"
      ]
    },
    {
      "cell_type": "code",
      "metadata": {
        "id": "NT0O6C5JktwZ"
      },
      "source": [
        ""
      ],
      "execution_count": 33,
      "outputs": []
    },
    {
      "cell_type": "markdown",
      "metadata": {
        "id": "laI7bWas7rym"
      },
      "source": [
        "##Variables"
      ]
    },
    {
      "cell_type": "markdown",
      "metadata": {
        "id": "UEvjXNc9bfJk"
      },
      "source": [
        "* A <font color='ff00ff'>variable</font> can be assigned to point to an object so that its value can be used later. It serves as a label to that object.\n",
        "    \n",
        "* A variable has the value and the type of the object it currently points to, so it can be used as an expression.\n",
        "\n",
        "* Assigning values to multiple variables in a single statement can be done with commas.\n",
        "\n",
        "* The equal sign (`=`) assigns a value to a variable:"
      ]
    },
    {
      "cell_type": "code",
      "metadata": {
        "trusted": true,
        "id": "he4-ZANGbfJm",
        "colab": {
          "base_uri": "https://localhost:8080/"
        },
        "outputId": "e9a31401-f1c3-40d1-bffa-0a36af6d2e6f"
      },
      "source": [
        "width = 20\n",
        "height = 5 * 90\n",
        "area = width * height\n",
        "print('Area is', area, end='.\\n')\n",
        "print('Done')"
      ],
      "execution_count": 34,
      "outputs": [
        {
          "output_type": "stream",
          "name": "stdout",
          "text": [
            "Area is 9000.\n",
            "Done\n"
          ]
        }
      ]
    },
    {
      "cell_type": "markdown",
      "metadata": {
        "id": "rnexG5m4muBJ"
      },
      "source": [
        "* For ease of reading, we can use `_` between words in a variable."
      ]
    },
    {
      "cell_type": "code",
      "metadata": {
        "id": "BIcgFgl_m1yv",
        "colab": {
          "base_uri": "https://localhost:8080/"
        },
        "outputId": "f1a7ec53-f427-4a5a-b682-020d535bc46f"
      },
      "source": [
        "width, height = 40, 30\n",
        "area_of_triangle = 1/2 * width * height\n",
        "print('width =', width, 'and height =', height)\n",
        "print('area = 1/2 x width x height =', area_of_triangle)"
      ],
      "execution_count": 35,
      "outputs": [
        {
          "output_type": "stream",
          "name": "stdout",
          "text": [
            "width = 40 and height = 30\n",
            "area = 1/2 x width x height = 600.0\n"
          ]
        }
      ]
    },
    {
      "cell_type": "code",
      "metadata": {
        "id": "P6sJLvTglr97",
        "colab": {
          "base_uri": "https://localhost:8080/"
        },
        "outputId": "cf680126-5416-42b0-f03d-77c34e0fe8b7"
      },
      "source": [
        "a = 2**7               \n",
        "b = 5**(1/2)           \n",
        "print(\"a = \", a)\n",
        "print(\"b = \", b)\n",
        "a**1/2 + b**3    # be carefule with the precedence"
      ],
      "execution_count": 36,
      "outputs": [
        {
          "output_type": "stream",
          "name": "stdout",
          "text": [
            "a =  128\n",
            "b =  2.23606797749979\n"
          ]
        },
        {
          "output_type": "execute_result",
          "data": {
            "text/plain": [
              "75.18033988749895"
            ]
          },
          "metadata": {},
          "execution_count": 36
        }
      ]
    },
    {
      "cell_type": "markdown",
      "metadata": {
        "id": "hGjI6FirbfJr"
      },
      "source": [
        "* If a variable is not \"defined\" (assigned a value), using it produces an error:"
      ]
    },
    {
      "cell_type": "code",
      "metadata": {
        "trusted": true,
        "id": "TLLaVSyObfJs",
        "colab": {
          "base_uri": "https://localhost:8080/",
          "height": 165
        },
        "outputId": "07c0487a-cf6d-4955-ffb6-64fbac8954ac"
      },
      "source": [
        "n  # Try to access an undefined variable."
      ],
      "execution_count": 37,
      "outputs": [
        {
          "output_type": "error",
          "ename": "NameError",
          "evalue": "ignored",
          "traceback": [
            "\u001b[0;31m---------------------------------------------------------------------------\u001b[0m",
            "\u001b[0;31mNameError\u001b[0m                                 Traceback (most recent call last)",
            "\u001b[0;32m<ipython-input-37-2d383632fd8e>\u001b[0m in \u001b[0;36m<module>\u001b[0;34m()\u001b[0m\n\u001b[0;32m----> 1\u001b[0;31m \u001b[0mn\u001b[0m  \u001b[0;31m# Try to access an undefined variable.\u001b[0m\u001b[0;34m\u001b[0m\u001b[0;34m\u001b[0m\u001b[0m\n\u001b[0m",
            "\u001b[0;31mNameError\u001b[0m: name 'n' is not defined"
          ]
        }
      ]
    },
    {
      "cell_type": "markdown",
      "metadata": {
        "id": "3cVx7vp9bfJy"
      },
      "source": [
        "* Python provides full support for floating point numbers; operators with mixed type operands convert the integer operand to floating point:"
      ]
    },
    {
      "cell_type": "code",
      "metadata": {
        "trusted": true,
        "id": "RXqbQIQVbfKC"
      },
      "source": [
        "3 * 3.75 / 1.5"
      ],
      "execution_count": null,
      "outputs": []
    },
    {
      "cell_type": "code",
      "metadata": {
        "trusted": true,
        "id": "qErNjGP-bfKI"
      },
      "source": [
        "7.0 / 2"
      ],
      "execution_count": null,
      "outputs": []
    },
    {
      "cell_type": "markdown",
      "metadata": {
        "id": "qIh9Dk6xbfKN"
      },
      "source": [
        "* In interactive mode and in Jupyter notebooks, the last printed expression is assigned to the variable `_`. This means that when you're using Python as a desk calculator, its somewhat easier to continue calculations. For example:"
      ]
    },
    {
      "cell_type": "code",
      "metadata": {
        "trusted": true,
        "id": "xeT0X2RnbfKO"
      },
      "source": [
        "tax = 12.5 / 100\n",
        "price = 100.50\n",
        "price * tax"
      ],
      "execution_count": null,
      "outputs": []
    },
    {
      "cell_type": "code",
      "metadata": {
        "trusted": true,
        "id": "qL2hy4bNbfKU"
      },
      "source": [
        "price + _"
      ],
      "execution_count": null,
      "outputs": []
    },
    {
      "cell_type": "code",
      "metadata": {
        "trusted": true,
        "id": "gOeIANEcbfKY"
      },
      "source": [
        "round(_, 2)"
      ],
      "execution_count": null,
      "outputs": []
    },
    {
      "cell_type": "markdown",
      "metadata": {
        "id": "5MtpIHbhbfKe"
      },
      "source": [
        "* Treat the `_` variable as read-only. Don't explicitly assign a value to it -- doing so creates an independent local variable with the same name, thereby masking the built-in variable with its magic (ie., *unpredictable*) behavior.\n",
        "\n",
        "* In addition to `int` and `float`, Python supports other types of numbers, such as [`Decimal`](https://docs.python.org/3.5/library/decimal.html#decimal.Decimal) and [`Fraction`](https://docs.python.org/3.5/library/fractions.html#fractions.Fraction). Python also has built-in support for [complex numbers](https://docs.python.org/3.5/library/stdtypes.html#typesnumeric), and uses the `j` or `J` suffix to indicate the imaginary part (e.g. `3+5j`)."
      ]
    },
    {
      "cell_type": "markdown",
      "metadata": {
        "id": "Ua3GZ23Nnkkc"
      },
      "source": [
        "##Your exercise 3:"
      ]
    },
    {
      "cell_type": "markdown",
      "metadata": {
        "id": "zgwC6dpynuGV"
      },
      "source": [
        "a) Complete the code fragment below to compute the harmonic mean of values from varibles `a`, `b`, `c` using the following equation:\n",
        "$$ \\mathrm{hmean}(a, b, c) = \\frac{3}{\\frac{1}{a} + \\frac{1}{b} + \\frac{1}{c}} $$"
      ]
    },
    {
      "cell_type": "code",
      "metadata": {
        "id": "xIC-GhKYoLXd"
      },
      "source": [
        "a = 10\n",
        "b = 20\n",
        "c = 30\n",
        "    # fill your code here\n",
        "print(hmean)"
      ],
      "execution_count": null,
      "outputs": []
    },
    {
      "cell_type": "markdown",
      "metadata": {
        "id": "Jj_5aKWJopYc"
      },
      "source": [
        "b) Giving values to variables `width`, `length` and `depth`, compute the volume of an ellipsoid from the following equation:\n",
        "$$ \\mathtt{volume} = \\frac{4}{3} \\times \\pi \\times \\mathtt{width} \\times \\mathtt{length} \\times \\mathtt{depth} $$"
      ]
    },
    {
      "cell_type": "code",
      "metadata": {
        "id": "XvPbqbsUpGtP"
      },
      "source": [
        "# define variable width to 20\n",
        "width = 20\n",
        "\n",
        "# define variable length to 30\n",
        "length = 30\n",
        "\n",
        "# define variable depth to 40\n",
        "depth = 40\n",
        "\n",
        "# Note that pi equals 22/7, so compute your ellipsoid to variable volume here\n",
        "volume =\n",
        "\n",
        "print(\"volume = \", volume)"
      ],
      "execution_count": null,
      "outputs": []
    },
    {
      "cell_type": "markdown",
      "metadata": {
        "id": "b2yjs7BnTdW2"
      },
      "source": [
        "##Functions"
      ]
    },
    {
      "cell_type": "markdown",
      "metadata": {
        "id": "l8u-DA1JTki_"
      },
      "source": [
        "###Built-in functions\n",
        "\n",
        "* Python comes with a number of <font color='ff00ff'>built-in</font> functions, which can be used right away in a program.\n",
        "* All of the functions we have used previously are built-in functions.\n",
        "* A complete list of available built-in functions can be found [here](https://docs.python.org/3/library/functions.html)."
      ]
    },
    {
      "cell_type": "code",
      "metadata": {
        "id": "5xbKc5LDT_Ej"
      },
      "source": [
        "print('Hello')"
      ],
      "execution_count": null,
      "outputs": []
    },
    {
      "cell_type": "code",
      "metadata": {
        "id": "RsxVEN_7UD9J"
      },
      "source": [
        "a = int(32.5)\n",
        "print(a)"
      ],
      "execution_count": null,
      "outputs": []
    },
    {
      "cell_type": "code",
      "metadata": {
        "id": "7PWapIGBUVPt"
      },
      "source": [
        "b = len('Welcome to KU, Sriracha campus.')\n",
        "print(b)"
      ],
      "execution_count": null,
      "outputs": []
    },
    {
      "cell_type": "code",
      "metadata": {
        "id": "SGtuuo0ZUdnu"
      },
      "source": [
        "type(float(25))"
      ],
      "execution_count": null,
      "outputs": []
    },
    {
      "cell_type": "code",
      "metadata": {
        "id": "T2QoyFduUmg3"
      },
      "source": [
        "price = input('Enter price: ')\n",
        "price = float(price)\n",
        "print(price)"
      ],
      "execution_count": null,
      "outputs": []
    },
    {
      "cell_type": "code",
      "metadata": {
        "id": "KLyHoyyPU0j5"
      },
      "source": [
        "max(3,1,5,8.5,-6.2)"
      ],
      "execution_count": null,
      "outputs": []
    },
    {
      "cell_type": "code",
      "metadata": {
        "id": "kOf8EiHVU8BX"
      },
      "source": [
        "pow(2,8)"
      ],
      "execution_count": null,
      "outputs": []
    },
    {
      "cell_type": "code",
      "metadata": {
        "id": "GH62-MJGVOaT"
      },
      "source": [
        "type(print('Eastern seabaord..')) # return value of type() is None"
      ],
      "execution_count": null,
      "outputs": []
    },
    {
      "cell_type": "code",
      "metadata": {
        "id": "CgSGzVAgVno-"
      },
      "source": [
        "q, r = divmod(17, 3)   # two variables can be specified to store the two returned values\n",
        "print(q, r)"
      ],
      "execution_count": null,
      "outputs": []
    },
    {
      "cell_type": "markdown",
      "metadata": {
        "id": "xSeEFzIDV0If"
      },
      "source": [
        "###Modules and import statement\n",
        "\n",
        "* Many functions are not built in, but stored in separate modules which can be <font color='ff00ff'>imported</font> into a program.\n",
        "For example, the [math module](https://www.programiz.com/python-programming/modules/math) stores various math-related objects such as mathematical functions and constants."
      ]
    },
    {
      "cell_type": "code",
      "metadata": {
        "id": "hYJBgxGEWpPH"
      },
      "source": [
        "import math\n",
        "x,y = 3,4   # similar to x=3 and y=4\n",
        "print(math.sqrt( (x**2) + (y**2) + (math.pi/2) ))"
      ],
      "execution_count": null,
      "outputs": []
    },
    {
      "cell_type": "code",
      "metadata": {
        "id": "FK7v6ETXWuaF"
      },
      "source": [
        "from math import sqrt,pi\n",
        "x,y = 3,4   # similar to x=3 and y=4\n",
        "print(sqrt( (x**2) + (y**2) + (pi/2)) )"
      ],
      "execution_count": null,
      "outputs": []
    },
    {
      "cell_type": "markdown",
      "metadata": {
        "id": "ypxHuW1aW2o9"
      },
      "source": [
        "###Creating functions\n",
        "\n",
        "* A new <font color='ff00ff'>function</font> can be created using the <font color='00ffff'>`def`</font> keyword\n",
        "* The function body (aka. code block) must be properly indented.\n",
        "* Python recommends using four spaces for indentation. \n",
        "* Here we just prefer to use only two spaces for indentation.\n",
        "\n",
        "```python\n",
        "def function_name(parameter):\n",
        "  code_block\n",
        "```"
      ]
    },
    {
      "cell_type": "code",
      "metadata": {
        "id": "ck7ZnCGgXASz"
      },
      "source": [
        "def say_hello():\n",
        "  print(\"Hello.\")\n",
        "  print(\"How are you?\")\n",
        "\n",
        "say_hello()\n",
        "print()\n",
        "type(say_hello)"
      ],
      "execution_count": null,
      "outputs": []
    },
    {
      "cell_type": "code",
      "metadata": {
        "id": "iyzL8hpaXuX6"
      },
      "source": [
        "def say_hello(yourname, myname):\n",
        "  print(f\"Hello, {yourname}.\")\n",
        "  print(f\"My name is {myname}.\")\n",
        "\n",
        "say_hello('Thomas', 'Jerry')"
      ],
      "execution_count": null,
      "outputs": []
    },
    {
      "cell_type": "code",
      "metadata": {
        "id": "05RE2906YeLx"
      },
      "source": [
        "def song(animal, sound):\n",
        "  print(f\"Old MACDONALD had a farm E-I-E-I-O\")\n",
        "  print(f\"And on his farm he had a {animal} E-I-E-I-O\")\n",
        "  print(f\"With a {sound} {sound} here\")\n",
        "  print(f\"And a {sound} {sound} there\")\n",
        "  print(f\"Here a {sound}, there a {sound}\")\n",
        "  print(f\"Everywhere a {sound} {sound}\")\n",
        "\n",
        "song('dog', 'hong hong')"
      ],
      "execution_count": null,
      "outputs": []
    },
    {
      "cell_type": "markdown",
      "metadata": {
        "id": "HXAXSLdaJRLy"
      },
      "source": [
        "* In a funtion, we can use <font color='ff00ff'>return</font> command to send the result of its execution back to the caller."
      ]
    },
    {
      "cell_type": "code",
      "metadata": {
        "id": "iL6tPJJ3JkqH"
      },
      "source": [
        "def myadd(a, b):\n",
        "  return a + b\n",
        "\n",
        "print(myadd(2, 3))\n",
        "print(myadd('Hello, ', 'Wolrd'))"
      ],
      "execution_count": null,
      "outputs": []
    },
    {
      "cell_type": "code",
      "metadata": {
        "id": "KXV8X5-9K6Wn"
      },
      "source": [
        "def mymul(a, b):\n",
        "  return a * b\n",
        "\n",
        "print(mymul(2, 3))\n",
        "print(mymul('Hi', 5))\n",
        "print(mymul(3, 'morning..'))"
      ],
      "execution_count": null,
      "outputs": []
    },
    {
      "cell_type": "code",
      "metadata": {
        "id": "ZCsMuOPKYF5k"
      },
      "source": [
        "import math\n",
        "\n",
        "def circle_area(radius):\n",
        "    area = math.pi * (radius**2)\n",
        "    return area\n",
        "\n",
        "print(circle_area(7))"
      ],
      "execution_count": null,
      "outputs": []
    },
    {
      "cell_type": "markdown",
      "metadata": {
        "id": "uyfxzC1SuQQs"
      },
      "source": [
        "##Boolean expressions"
      ]
    },
    {
      "cell_type": "markdown",
      "metadata": {
        "id": "2ep9hucvuaVS"
      },
      "source": [
        "* A <font color='ff00ff'>Boolean</font> expression is an expression that gets evaluated to either <font color='00ffff'>true</font> or <font color='00ffff'>false</font>."
      ]
    },
    {
      "cell_type": "markdown",
      "metadata": {
        "id": "eLVfqsHMT-Yl"
      },
      "source": [
        "###Relational operators\n",
        "\n",
        "* The most basic form of Boolean expressions is to test relation between two objects such as equality, inequality, ordering, etc. "
      ]
    },
    {
      "cell_type": "markdown",
      "metadata": {
        "id": "gv7ysigqZlD8"
      },
      "source": [
        "Such a Boolean expression uses one of the following relational operators:\n",
        "\n",
        "* `x == y` true when `x` equals `y` (`x` and `y` may be both numbers or both strings)\n",
        "* `x != y` true when `x` does not equal `y` (`x` and `y` may be both numbers or both strings)\n",
        "* `x < y` true when `x` is less than `y` (`x` and `y` are numbers), or `x` comes before `y` (`x` and `y` are strings)\n",
        "* `x > y` true when `x` is greater than `y` (`x` and `y` are numbers), or `x` comes after `y` (`x` and `y` are strings)\n",
        "* `x <= y` true when `x < y` or `x == y`\n",
        "* `x >= y` true when `x > y` or `x == y`\n",
        "\n",
        "All Boolean expression are of type <font color='ff00ff'>`bool`</font>. Python provides two literals of fixed Boolean values: <font color='00ffff'>`True`</font> and <font color='00ffff'>`False`</font>."
      ]
    },
    {
      "cell_type": "code",
      "metadata": {
        "id": "5TVWQ6r6VwYw"
      },
      "source": [
        "x, y = 4, 2\n",
        "type(x<y)"
      ],
      "execution_count": null,
      "outputs": []
    },
    {
      "cell_type": "code",
      "metadata": {
        "id": "j42vCC0_WXc0"
      },
      "source": [
        "True"
      ],
      "execution_count": null,
      "outputs": []
    },
    {
      "cell_type": "code",
      "metadata": {
        "id": "YBDOQ0kEWaAK"
      },
      "source": [
        "False"
      ],
      "execution_count": null,
      "outputs": []
    },
    {
      "cell_type": "code",
      "metadata": {
        "id": "vtGdEH1lWa_z"
      },
      "source": [
        "type(True)"
      ],
      "execution_count": null,
      "outputs": []
    },
    {
      "cell_type": "markdown",
      "metadata": {
        "id": "L9ILtCDUWywY"
      },
      "source": [
        "###Logical operators\n",
        "\n",
        "* One or more boolean expressions can be combined to build a more complex expression using logical operators."
      ]
    },
    {
      "cell_type": "code",
      "metadata": {
        "id": "EDf4JMVYWofL"
      },
      "source": [
        "x = 8\n",
        "1 < x and x < 10"
      ],
      "execution_count": null,
      "outputs": []
    },
    {
      "cell_type": "code",
      "metadata": {
        "id": "8ZeYpzCPWu8W"
      },
      "source": [
        "x = 20\n",
        "1 < x and x < 10"
      ],
      "execution_count": null,
      "outputs": []
    },
    {
      "cell_type": "code",
      "metadata": {
        "id": "NblY1ayfXZ88"
      },
      "source": [
        "x = 10\n",
        "x < 2 or x > 8"
      ],
      "execution_count": null,
      "outputs": []
    },
    {
      "cell_type": "code",
      "metadata": {
        "id": "eNt0Uoy5XiL1"
      },
      "source": [
        "x < 2 or x > 20"
      ],
      "execution_count": null,
      "outputs": []
    },
    {
      "cell_type": "code",
      "metadata": {
        "id": "IfT_cvMnXpYk"
      },
      "source": [
        "not (x < 2)"
      ],
      "execution_count": null,
      "outputs": []
    },
    {
      "cell_type": "markdown",
      "metadata": {
        "id": "DMbN_tYq50kD"
      },
      "source": [
        "##Your exercise 4:"
      ]
    },
    {
      "cell_type": "markdown",
      "metadata": {
        "id": "2mxBXS_bXzQ1"
      },
      "source": [
        "The logical operators have the following precedence: `not`, `and`, `or`."
      ]
    },
    {
      "cell_type": "code",
      "metadata": {
        "id": "BNi1EDUZMq4Z"
      },
      "source": [
        "not 'Hello'!='World' or 4>3 and 3>2"
      ],
      "execution_count": null,
      "outputs": []
    },
    {
      "cell_type": "markdown",
      "metadata": {
        "id": "QudiD-pIN5yR"
      },
      "source": [
        "Fill in the necessary assignment statement for variables `x` and `y`:"
      ]
    },
    {
      "cell_type": "code",
      "metadata": {
        "id": "qf6aJCc3Y39s"
      },
      "source": [
        "#x =\n",
        "not(x%11 == 0) # need False as the answer"
      ],
      "execution_count": null,
      "outputs": []
    },
    {
      "cell_type": "code",
      "metadata": {
        "id": "ooKT_8YwXyi_"
      },
      "source": [
        "#x = \n",
        "#y =\n",
        "(x**2 + 2*x + 3*y - y**2 == 0) or (2*x == y+5) or ((x > y) and (y>1000)) # need True as the answer"
      ],
      "execution_count": null,
      "outputs": []
    },
    {
      "cell_type": "markdown",
      "metadata": {
        "id": "YvCCeivtnV93"
      },
      "source": [
        "##Selective control statments"
      ]
    },
    {
      "cell_type": "markdown",
      "metadata": {
        "id": "_eDzl3NfnZXt"
      },
      "source": [
        "###If statement\n",
        "\n",
        "* We can let Python to either execute or not execute a block of statment.\n",
        "\n",
        "* For the following `if` statement, if BooleanExpression has been evaluated to `True`, the True_Codeblock will be executed, the False_Codeblock otherwise.\n",
        "\n",
        "```python\n",
        "if BooleanExpression:\n",
        "  True_Codeblock\n",
        "\n",
        "if BooleanExpression:\n",
        "  True_Codeblock\n",
        "else:\n",
        "  False_Codeblock\n",
        "```"
      ]
    },
    {
      "cell_type": "code",
      "metadata": {
        "id": "tkY2oOaAnfqc"
      },
      "source": [
        "price = 40\n",
        "height = input('Enter height: ')\n",
        "height = int(height)\n",
        "if height < 140:\n",
        "  price = 40 * 0.5 # this code block will be executed if height is < 140 \n",
        "  print('Hello, kid..')\n",
        "print('Your BTS ticket costs', price, 'baht.')"
      ],
      "execution_count": null,
      "outputs": []
    },
    {
      "cell_type": "code",
      "metadata": {
        "id": "xZoag9GfNMP5"
      },
      "source": [
        "total = int(input('Enter price: '))\n",
        "if total >= 1000:\n",
        "  discount = (total-1000)*0.15 + 1000*0.05\n",
        "else:\n",
        "  discount = total*0.05\n",
        "total = total - discount\n",
        "print(f'Total price: {total:.1f} Baht.')"
      ],
      "execution_count": null,
      "outputs": []
    },
    {
      "cell_type": "markdown",
      "metadata": {
        "id": "CmZeEXfEqPGI"
      },
      "source": [
        "##Your exercise 5:"
      ]
    },
    {
      "cell_type": "markdown",
      "metadata": {
        "id": "irEu5hXkqdvx"
      },
      "source": [
        "1. A parking service will cost you a normal rate of 20 baht/hour. However, if you have parked your car for 24 hours or longer, an extra fee of 100 baht is added to the total fee. Complete the code fragment below so that it correctly computes the parking fee for the given number of hours. "
      ]
    },
    {
      "cell_type": "markdown",
      "metadata": {
        "id": "Z66G-3qRq1eG"
      },
      "source": [
        "```python\n",
        "# sample code fragment\n",
        "hours = int(input('Enter how long your parking (in hour(s)):'))\n",
        "fee = hours * 20\n",
        "if __CHANGEME__:\n",
        "  __COMPLETEME__\n",
        "print('Your fee to pay:', fee)\n",
        "```"
      ]
    },
    {
      "cell_type": "code",
      "metadata": {
        "id": "ppRzMhdXqfGi"
      },
      "source": [
        "# Your turn here\n",
        "hours = int(input('Enter how long your parking (in hour(s)):'))\n",
        "#"
      ],
      "execution_count": null,
      "outputs": []
    },
    {
      "cell_type": "markdown",
      "metadata": {
        "id": "e35y881irqJ6"
      },
      "source": [
        "2. An Electric Appliance Store sells used TVs, DVD players, and audio systems. All products of the same kind have the same price as shown in the table below:\n",
        "\n",
        "|Product|Price per unit (bahts)|\n",
        "|:----:|:----:|\n",
        "|TV|6000|\n",
        "|DVD player|1500|\n",
        "|Audio System|3000|\n",
        "\n",
        "The store offers 20% discount to the customer who purchases at least 20,000 bahts.\n",
        "\n",
        "Write a program that reads the number of each product purchased, then calculates and prints total payment (with possible 20% discount) in 2 decimal points."
      ]
    },
    {
      "cell_type": "markdown",
      "metadata": {
        "id": "AGag7cNZI8Iw"
      },
      "source": [
        "**Example output 1**\n",
        "```python\n",
        "How many TVs? 1\n",
        "How many DVD players? 0\n",
        "How many Audio Systems? 1\n",
        "Total price: 9000.00 baht.\n",
        "Your payment: 9000.00 baht. Thank you!\n",
        "```"
      ]
    },
    {
      "cell_type": "markdown",
      "metadata": {
        "id": "7jh7wbdWJT5h"
      },
      "source": [
        "**Example output 2**\n",
        "```python\n",
        "How many TVs? 0\n",
        "How many DVD players? 2\n",
        "How many Audio Systems? 3\n",
        "Total price: 12000.00 baht.\n",
        "Your payment: 12000.00 baht. Thank you!\n",
        "```"
      ]
    },
    {
      "cell_type": "markdown",
      "metadata": {
        "id": "IhNqfAhmJlN0"
      },
      "source": [
        "**Example output 3**\n",
        "```python\n",
        "How many TVs? 2\n",
        "How many DVD players? 3\n",
        "How many Audio Systems? 2\n",
        "Total price: 22500.00 baht.\n",
        "You have got a discount of 4500.00 baht.\n",
        "Your payment: 18000.00 baht. Thank you!\n",
        "```"
      ]
    },
    {
      "cell_type": "code",
      "metadata": {
        "id": "IkFAwfyGG8Yt"
      },
      "source": [
        "# Your Python solution here"
      ],
      "execution_count": null,
      "outputs": []
    },
    {
      "cell_type": "markdown",
      "metadata": {
        "id": "tGl4glh9Ljv0"
      },
      "source": [
        "##Nested if statement"
      ]
    },
    {
      "cell_type": "code",
      "metadata": {
        "id": "hlGJT42bMhSb"
      },
      "source": [
        "x = int(input('Input x: '))\n",
        "if x%3 == 0:\n",
        "  if x%5 == 0:\n",
        "    print(\"x is divisible by 3 and 5\")\n",
        "  else:\n",
        "    print(\"x is divisible by 3, but not 5\")\n",
        "else:\n",
        "  if x%5 == 0:\n",
        "    print(\"x is divisible by 5, but not 3\")\n",
        "  else:\n",
        "    print(\"x is neither divisible by 3 nor 5\")"
      ],
      "execution_count": null,
      "outputs": []
    },
    {
      "cell_type": "code",
      "metadata": {
        "id": "jXoZOe4jOmxP"
      },
      "source": [
        "score = int(input('Enter score: '))\n",
        "if score >= 80:\n",
        "  text = \"excellent\"\n",
        "else:\n",
        "  if score >= 70:\n",
        "    text = \"good\"\n",
        "  else:\n",
        "    if score >= 60:\n",
        "      text = \"fair\"\n",
        "    else:\n",
        "      if score >= 50:\n",
        "        text = \"poor\"\n",
        "      else:\n",
        "        text = \"fail\"\n",
        "print('Your grade:', text)"
      ],
      "execution_count": null,
      "outputs": []
    },
    {
      "cell_type": "code",
      "metadata": {
        "id": "LkVLDqdsPY4_"
      },
      "source": [
        "score = int(input('Enter score: '))\n",
        "if score >= 80:\n",
        "  text = \"excellent\"\n",
        "elif score >= 70:\n",
        "  text = \"good\"\n",
        "elif score >= 60:\n",
        "  text = \"fair\"\n",
        "elif score >= 50:\n",
        "  text = \"poor\"\n",
        "else:\n",
        "  text = \"fail\"\n",
        "print('Your grade:', text)"
      ],
      "execution_count": null,
      "outputs": []
    },
    {
      "cell_type": "markdown",
      "metadata": {
        "id": "GjXcJeQcP7w6"
      },
      "source": [
        "##Your exercise 6:"
      ]
    },
    {
      "cell_type": "markdown",
      "metadata": {
        "id": "XGSla3E7P9hV"
      },
      "source": [
        "The Body Mass Index (BMI) of a person can be determined by his/her weight and height using the formula:\n",
        "\n",
        "<center>\n",
        "$\\text{BMI} = \\frac{\\text{weight}}{\\text{height}^2}$\n",
        "</center>\n",
        "\n",
        "where weight is in kilograms and height is in meters.\n",
        "\n",
        "The BMI value roughly determines the weight status according to the table:\n",
        "\n",
        "|BMI Range | Interpretation |\n",
        "|:---:|:---:|\n",
        "| BMI<18.5 | underweight |\n",
        "| 18.5<=BMI<25 | normal |\n",
        "| 25<=BMI<=30 | overweight |\n",
        "| BMI>=30 | obese |\n",
        "\n",
        "Write a Python program that takes a person's weight (in kg) and height (in cm), calculates the BMI, and determines the status using the table above. BMI value is displayed with two decimal places.\n",
        "\n",
        "**Example output**\n",
        "```python\n",
        "Enter your weight in kg: 65\n",
        "Enter your height in cm: 175\n",
        "Your BMI is 21.22.\n",
        "You are normal.\n",
        "```"
      ]
    },
    {
      "cell_type": "code",
      "metadata": {
        "id": "m-h7XZ4JRpKj"
      },
      "source": [
        "# Your code here"
      ],
      "execution_count": null,
      "outputs": []
    },
    {
      "cell_type": "markdown",
      "metadata": {
        "id": "tVwmOo6QZB5t"
      },
      "source": [
        "##Repetition statements"
      ]
    },
    {
      "cell_type": "markdown",
      "metadata": {
        "id": "beQBwyKlZN8M"
      },
      "source": [
        "###Basic repetition"
      ]
    },
    {
      "cell_type": "code",
      "metadata": {
        "id": "k_ce8P-BZI4A"
      },
      "source": [
        "for _ in range(5):\n",
        "  print(\"Hello\")"
      ],
      "execution_count": null,
      "outputs": []
    },
    {
      "cell_type": "code",
      "metadata": {
        "id": "2sny02zJZazG"
      },
      "source": [
        "n = int(input(\"How many times you want to say goodbye? \"))\n",
        "for _ in range(n):\n",
        "  print(\"Goodbye\")"
      ],
      "execution_count": null,
      "outputs": []
    },
    {
      "cell_type": "code",
      "metadata": {
        "id": "5dmH8BGBZkmK"
      },
      "source": [
        "def f(n):\n",
        "  return n*(n+1)/2\n",
        "\n",
        "print(\" n | f(n)\")\n",
        "print(\"---+-----\")\n",
        "for n in range(5):\n",
        "  print(f\" {n+1} | {f(n+1):3.0f}\")"
      ],
      "execution_count": null,
      "outputs": []
    },
    {
      "cell_type": "code",
      "metadata": {
        "id": "P3LvLuf1aH9R"
      },
      "source": [
        "def is_leap_year(year):\n",
        "  return ((year%4 == 0) and (year%100 != 0)) or (year%400 == 0)\n",
        "\n",
        "for i in range(1970,2021):\n",
        "  if is_leap_year(i):\n",
        "    print(f\"AD {i} is a leap year.\")"
      ],
      "execution_count": null,
      "outputs": []
    },
    {
      "cell_type": "code",
      "metadata": {
        "id": "EGyAN510aXLk"
      },
      "source": [
        "import math\n",
        "\n",
        "def f(n):\n",
        "  return 15 + 10*math.sin(n/10)\n",
        "\n",
        "print(\"  n | f(n)\")\n",
        "print(\"----+-------------------------------------------------\")\n",
        "for n in range(0,100,5):\n",
        "  spaces = \" \" * round(f(n))\n",
        "  print(f\" {n:2} | {spaces}*\")"
      ],
      "execution_count": null,
      "outputs": []
    },
    {
      "cell_type": "markdown",
      "metadata": {
        "id": "4vNcOVDvX2Ly"
      },
      "source": [
        "###Simple while loop"
      ]
    },
    {
      "cell_type": "markdown",
      "metadata": {
        "id": "Sq7JnisTbQQ2"
      },
      "source": [
        "* The <font color='00ffff'>`while`</font> statement allows writing repetition that can be controlled with a condition instead of a sequence. Its structure is similar to the if statement but the body is repeated as long as the condition is true.\n",
        "\n",
        "```python\n",
        "while condition:\n",
        "  code_block\n",
        "```"
      ]
    },
    {
      "cell_type": "code",
      "metadata": {
        "id": "_MwVfQsNbTuL"
      },
      "source": [
        "i = 1\n",
        "while i < 20:\n",
        "  print(i, end=' ')\n",
        "  i = i+2"
      ],
      "execution_count": null,
      "outputs": []
    },
    {
      "cell_type": "markdown",
      "metadata": {
        "id": "rha54oFXX-V1"
      },
      "source": [
        "###Sentinel-controlled loop"
      ]
    },
    {
      "cell_type": "markdown",
      "metadata": {
        "id": "c5jaef8tb1VF"
      },
      "source": [
        "* A for-loop cannot be used when a sequence to be repeated is not known in advance, for examples, asking a sequence of numbers from user, or checking external sensors when programming a robot.\n",
        "* The stop condition is controlled by a <font color='ffff00'>sentinel</font>.\n",
        "\n",
        "The following code asks user to keep entering numbers until the user enters -1. Then the summation is computed and displayed."
      ]
    },
    {
      "cell_type": "code",
      "metadata": {
        "id": "Y4t-ipsPcIXc"
      },
      "source": [
        "total = 0\n",
        "number = float(input(\"Enter a number (-1 to stop): \"))\n",
        "while number != -1:\n",
        "    total = total + number\n",
        "    number = float(input(\"Enter a number (-1 to stop): \"))\n",
        "print(f\"Total is {total}\")"
      ],
      "execution_count": null,
      "outputs": []
    },
    {
      "cell_type": "markdown",
      "metadata": {
        "id": "vgAXa2ukdwUL"
      },
      "source": [
        "##Your exercise 7:"
      ]
    },
    {
      "cell_type": "markdown",
      "metadata": {
        "id": "rZu4hHklc45W"
      },
      "source": [
        "Write a Python program that reads a sequence of numbers from user, and prints out the maximum, minimum, and the average of those numbers with two decimal places. The program stops reading input when the user simply presses [Enter] without entering any number. (i.e., the sentinel is an empty input.)\n",
        "\n",
        "**Example output 1**\n",
        "```python\n",
        "Enter a number (just [Enter] to quit): 10\n",
        "Enter a number (just [Enter] to quit): \n",
        "The maximum is 10.00\n",
        "The minimum is 10.00\n",
        "The average is 10.00\n",
        "```\n",
        "\n",
        "**Example output 2**\n",
        "```python\n",
        "Enter a number (just [Enter] to quit): 10.2\n",
        "Enter a number (just [Enter] to quit): 20.5\n",
        "Enter a number (just [Enter] to quit): -2.6\n",
        "Enter a number (just [Enter] to quit): -8.98\n",
        "Enter a number (just [Enter] to quit): \n",
        "The maximum is 20.50\n",
        "The minimum is -8.98\n",
        "The average is 4.78\n",
        "```\n",
        "\n",
        "**Example output 3**\n",
        "```python\n",
        "Enter a number (just [Enter] to quit): \n",
        "Nothing to do.\n",
        "```\n"
      ]
    },
    {
      "cell_type": "code",
      "metadata": {
        "id": "NfBqPZL8c4YO"
      },
      "source": [
        "# your Python code here"
      ],
      "execution_count": null,
      "outputs": []
    },
    {
      "cell_type": "markdown",
      "metadata": {
        "id": "65WZaiC7ABCO"
      },
      "source": [
        "##Breaking out of loop\n",
        "\n"
      ]
    },
    {
      "cell_type": "markdown",
      "metadata": {
        "id": "wUhJeNyFeFKe"
      },
      "source": [
        "* The <font color='ff00ff'>`break`</font> statement allows program execution to break out of the current loop without waiting until the next condition check. "
      ]
    },
    {
      "cell_type": "code",
      "metadata": {
        "id": "FoK6tff0eH9Q"
      },
      "source": [
        "total = 0\n",
        "while True:\n",
        "  number = float(input(\"Enter a number (-1 to stop): \"))\n",
        "  if number == -1:\n",
        "    break\n",
        "  total = total + number\n",
        "print(f\"Total is {total}\")"
      ],
      "execution_count": null,
      "outputs": []
    },
    {
      "cell_type": "markdown",
      "metadata": {
        "id": "4Mqw2WqwfMG_"
      },
      "source": [
        "* The following code demonstrates how <font color='ff00ff'>`for`</font> and <font color='ff00ff'>`break`</font> statements can be combined to find whether there is a positive integer root less than 100 to the equation:\n",
        "<center>\n",
        "$2^n - 64 = 51n^4 - 249n^2$\n",
        "</center>"
      ]
    },
    {
      "cell_type": "code",
      "metadata": {
        "id": "jMcZZ0p3fdtq"
      },
      "source": [
        "found = False\n",
        "for n in range(1,101):\n",
        "  if 2**n - 64 == 51*n**4 - 249*n**2:\n",
        "    found = True\n",
        "    break\n",
        "if found:\n",
        "  print(f\"A root {n} is found.\")\n",
        "else:\n",
        "  print(\"No root is found.\")"
      ],
      "execution_count": null,
      "outputs": []
    },
    {
      "cell_type": "markdown",
      "metadata": {
        "id": "GxHarYyefzUM"
      },
      "source": [
        "##Nested loops"
      ]
    },
    {
      "cell_type": "markdown",
      "metadata": {
        "id": "nI1-746JANNU"
      },
      "source": [
        "* Similar to <font color='ff00ff'>nested `if`</font> structures, loops (both for and while) can also be nested."
      ]
    },
    {
      "cell_type": "code",
      "metadata": {
        "id": "aeAgyi7Sf8Fv"
      },
      "source": [
        "for i in range(0,3):\n",
        "  print(f\"i = {i}\")\n",
        "  for j in range(5,7):\n",
        "    print(f\"  j = {j}\")"
      ],
      "execution_count": null,
      "outputs": []
    },
    {
      "cell_type": "code",
      "metadata": {
        "id": "3qu0jG2BgI8E"
      },
      "source": [
        "for i in range(0,5):\n",
        "  print(f\"i = {i}\")\n",
        "  for j in range(0,i):\n",
        "    print(f\"  j = {j}\")"
      ],
      "execution_count": null,
      "outputs": []
    },
    {
      "cell_type": "code",
      "metadata": {
        "id": "fjfpfhOQgS0k"
      },
      "source": [
        "while True:\n",
        "  msg = input(\"Enter a message (or ENTER to quit): \")\n",
        "  if msg == \"\":\n",
        "    break\n",
        "  for c in msg:\n",
        "    print(c)\n",
        "print('Done')"
      ],
      "execution_count": null,
      "outputs": []
    },
    {
      "cell_type": "markdown",
      "metadata": {
        "id": "tEoGJW8Fd-35"
      },
      "source": [
        "##Your exercise 8:"
      ]
    },
    {
      "cell_type": "markdown",
      "metadata": {
        "id": "rjdeuqgYeJtX"
      },
      "source": [
        "1. Complete the code fragment so that it gives the output as shown.\n",
        "\n",
        "```\n",
        "   *\n",
        "  ***\n",
        " *****\n",
        "*******\n",
        "   *\n",
        "  ***\n",
        " *****\n",
        "*******\n",
        "   *\n",
        "  ***\n",
        " *****\n",
        "*******    \n",
        "```\n"
      ]
    },
    {
      "cell_type": "code",
      "metadata": {
        "id": "MoMzTYj6gyJE"
      },
      "source": [
        "for i in ____:\n",
        "    print(f\"i = {i}\")\n",
        "    for j in ____:\n",
        "        print(f\"  j = {j}\")"
      ],
      "execution_count": null,
      "outputs": []
    },
    {
      "cell_type": "markdown",
      "metadata": {
        "id": "LxY0gY7Ug8cr"
      },
      "source": [
        "2.  Complete the following code so that it defines a function $f(n)$ as follows:\n",
        "\n",
        "<center>$f(n)=\\sum_{i=1}^n\\sum_{j=1}^i(i+j)$</center>"
      ]
    },
    {
      "cell_type": "code",
      "metadata": {
        "id": "VnlI0KAXhWoK"
      },
      "source": [
        "def f(n):\n",
        "  sum = 0\n",
        "  for i in ____:\n",
        "    for j in ____:\n",
        "      sum = sum + ____\n",
        "  return sum\n"
      ],
      "execution_count": null,
      "outputs": []
    },
    {
      "cell_type": "markdown",
      "metadata": {
        "id": "aMJY39QVhs9J"
      },
      "source": [
        "3. Write a Python program that draws a christmas tree with the size and the number of levels specified by user.\n",
        "\n",
        "```\n",
        "Enter tree size: 3\n",
        "Enter tree levels: 2\n",
        "  *\n",
        " ***\n",
        "*****\n",
        "  *\n",
        " ***\n",
        "*****\n",
        "```\n",
        "\n",
        "```\n",
        "Enter tree size: 5\n",
        "Enter tree levels: 3\n",
        "    *\n",
        "   ***\n",
        "  *****\n",
        " *******\n",
        "*********\n",
        "    *\n",
        "   ***\n",
        "  *****\n",
        " *******\n",
        "*********\n",
        "    *\n",
        "   ***\n",
        "  *****\n",
        " *******\n",
        "*********\n",
        "```\n",
        "\n",
        "```\n",
        "Enter tree size: 2\n",
        "Enter tree levels: 4\n",
        " *\n",
        "***\n",
        " *\n",
        "***\n",
        " *\n",
        "***\n",
        " *\n",
        "***\n",
        "```\n"
      ]
    },
    {
      "cell_type": "markdown",
      "metadata": {
        "id": "OIyv5w1KbfKf"
      },
      "source": [
        "## Strings"
      ]
    },
    {
      "cell_type": "markdown",
      "metadata": {
        "id": "pOWXhm3dbfKh"
      },
      "source": [
        "Besides numbers, Python can also manipulate strings. Strings can enclosed in single quotes (`'...'`) or double quotes (`\"...\"`) with the same result. Use `\\` to escape quotes, that is, to use a quote within the string itself:"
      ]
    },
    {
      "cell_type": "code",
      "metadata": {
        "trusted": true,
        "id": "ga34utcHbfKi"
      },
      "source": [
        "'spam eggs'  # Single quotes."
      ],
      "execution_count": null,
      "outputs": []
    },
    {
      "cell_type": "code",
      "metadata": {
        "trusted": true,
        "id": "K4Me7a5EbfKp"
      },
      "source": [
        "'doesn\\'t'  # Use \\' to escape the single quote..."
      ],
      "execution_count": null,
      "outputs": []
    },
    {
      "cell_type": "code",
      "metadata": {
        "trusted": true,
        "id": "b-wcOEZvbfKu"
      },
      "source": [
        "\"doesn't\"  # ...or use double quotes instead."
      ],
      "execution_count": null,
      "outputs": []
    },
    {
      "cell_type": "code",
      "metadata": {
        "trusted": true,
        "id": "NsLjzWl-bfKy"
      },
      "source": [
        "'\"Yes,\" he said.'"
      ],
      "execution_count": null,
      "outputs": []
    },
    {
      "cell_type": "code",
      "metadata": {
        "trusted": true,
        "id": "JvwBGHLRbfK4"
      },
      "source": [
        "\"\\\"Yes,\\\" he said.\""
      ],
      "execution_count": null,
      "outputs": []
    },
    {
      "cell_type": "code",
      "metadata": {
        "trusted": true,
        "id": "oYvqWyntbfK8"
      },
      "source": [
        "'\"Isn\\'t,\" she said.'"
      ],
      "execution_count": null,
      "outputs": []
    },
    {
      "cell_type": "markdown",
      "metadata": {
        "id": "4BRYFhKMbfLB"
      },
      "source": [
        "* In the interactive interpreter and Jupyter notebooks, the output string is enclosed in quotes and special characters are escaped with backslashes. Although this output sometimes looks different from the input (the enclosing quotes could change), the two strings are equivalent. The string is enclosed in double quotes if the string contains a single quote and no double quotes, otherwise its enclosed in single quotes. The [`print()`](https://docs.python.org/3.6/library/functions.html#print) function produces a more readable output by omitting the enclosing quotes and by printing escaped and special characters:"
      ]
    },
    {
      "cell_type": "code",
      "metadata": {
        "trusted": true,
        "id": "6PxoYAojbfLD"
      },
      "source": [
        "'\"Isn\\'t,\" she said.'"
      ],
      "execution_count": null,
      "outputs": []
    },
    {
      "cell_type": "code",
      "metadata": {
        "trusted": true,
        "id": "3apv1o2xbfLH"
      },
      "source": [
        "print('\"Isn\\'t,\" she said.')"
      ],
      "execution_count": null,
      "outputs": []
    },
    {
      "cell_type": "code",
      "metadata": {
        "trusted": true,
        "id": "ylXUAlXCbfLL"
      },
      "source": [
        "s = 'First line.\\nSecond line.'  # \\n means newline.\n",
        "s  # Without print(), \\n is included in the output."
      ],
      "execution_count": null,
      "outputs": []
    },
    {
      "cell_type": "code",
      "metadata": {
        "trusted": true,
        "id": "jvIcuWecbfLQ"
      },
      "source": [
        "print(s)  # With print(), \\n produces a new line."
      ],
      "execution_count": null,
      "outputs": []
    },
    {
      "cell_type": "markdown",
      "metadata": {
        "id": "0Es_fuEGbfLU"
      },
      "source": [
        "* If you don't want escaped characters (prefaced by `\\`) to be interpreted as special characters, use <font color='ff00ff'>*raw strings*</font> by adding an `r` before the first quote:"
      ]
    },
    {
      "cell_type": "code",
      "metadata": {
        "trusted": true,
        "id": "-6ERdektbfLV"
      },
      "source": [
        "print('C:\\some\\name')  # Here \\n means newline!"
      ],
      "execution_count": null,
      "outputs": []
    },
    {
      "cell_type": "code",
      "metadata": {
        "trusted": true,
        "id": "lPeKynqvbfLa"
      },
      "source": [
        "print(r'C:\\some\\name')  # Note the r before the quote."
      ],
      "execution_count": null,
      "outputs": []
    },
    {
      "cell_type": "markdown",
      "metadata": {
        "id": "yVaWrTqjbfLd"
      },
      "source": [
        "* String literals can span multiple lines and are delineated by triple-quotes: `\"\"\"...\"\"\"` or `'''...'''`. \n",
        "\n",
        "* End of lines are automatically included in the string, but it's possible to prevent this by adding a `\\` at the end of the line. \n",
        "\n",
        "* For example, without a `\\`, the following example includes an extra line at the beginning of the output:"
      ]
    },
    {
      "cell_type": "code",
      "metadata": {
        "trusted": true,
        "id": "qBcC7MN9bfLf"
      },
      "source": [
        "print(\"\"\"\n",
        "Usage: thingy [OPTIONS]\n",
        "     -h                        Display this usage message\n",
        "     -H hostname               Hostname to connect to\n",
        "\"\"\")"
      ],
      "execution_count": null,
      "outputs": []
    },
    {
      "cell_type": "markdown",
      "metadata": {
        "id": "-d7tBrefbfLj"
      },
      "source": [
        "* Adding a `\\` removes that extra line:"
      ]
    },
    {
      "cell_type": "code",
      "metadata": {
        "trusted": true,
        "id": "BGO44oIzbfLj"
      },
      "source": [
        "print(\"\"\"\\\n",
        "Usage: thingy [OPTIONS]\n",
        "     -h                        Display this usage message\n",
        "     -H hostname               Hostname to connect to\n",
        "\"\"\")"
      ],
      "execution_count": null,
      "outputs": []
    },
    {
      "cell_type": "markdown",
      "metadata": {
        "id": "r2JjLtTybfLm"
      },
      "source": [
        "* Because Python doesn't provide a means for creating multi-line comments, developers often just use triple quotes for this purpose. In a Jupyter notebook, however, such quotes define a string literal which appears as the output of a code cell:"
      ]
    },
    {
      "cell_type": "code",
      "metadata": {
        "trusted": true,
        "id": "9Egf3m5gbfLo"
      },
      "source": [
        "\"\"\"\n",
        "Everything between the first three quotes, including new lines,\n",
        "is part of the multi-line comment. Technically, the Python interpreter\n",
        "simply sees the comment as a string, and because it's not otherwise\n",
        "used in code, the string is ignored. Convenient, eh?\n",
        "\"\"\""
      ],
      "execution_count": null,
      "outputs": []
    },
    {
      "cell_type": "markdown",
      "metadata": {
        "id": "UbIrR5w6bfLu"
      },
      "source": [
        "* For this reason, it's best in notebooks to use the `#` comment character at the beginning of each line, or better still, just use a Markdown cell!"
      ]
    },
    {
      "cell_type": "markdown",
      "metadata": {
        "id": "kB6i18GjbfLv"
      },
      "source": [
        "* Strings can be *concatenated* (glued together) with the `+` operator, and repeated with `*`:"
      ]
    },
    {
      "cell_type": "code",
      "metadata": {
        "trusted": true,
        "id": "d3mPKeQQbfLw"
      },
      "source": [
        "# 3 times 'un', followed by 'ium'\n",
        "3 * 'un' + 'ium'"
      ],
      "execution_count": null,
      "outputs": []
    },
    {
      "cell_type": "markdown",
      "metadata": {
        "id": "aZabkOzUbfL2"
      },
      "source": [
        "* Two or more *string literals* (that is, the values enclosed in quotes) placed next to each other are automatically concatenated:"
      ]
    },
    {
      "cell_type": "code",
      "metadata": {
        "trusted": true,
        "id": "o8GEsULtbfL3"
      },
      "source": [
        "'Py' 'thon'"
      ],
      "execution_count": null,
      "outputs": []
    },
    {
      "cell_type": "code",
      "metadata": {
        "id": "jWhzELRKc45g"
      },
      "source": [
        "'Digital''Academy'\"Thailand..\""
      ],
      "execution_count": null,
      "outputs": []
    },
    {
      "cell_type": "markdown",
      "metadata": {
        "id": "Hf6lyrkCbfL9"
      },
      "source": [
        "* Automatic concatenation works only with two literals; it does not work with variables or expressions, so the following cell produces an error:"
      ]
    },
    {
      "cell_type": "code",
      "metadata": {
        "trusted": true,
        "id": "MoFlnbKabfL-"
      },
      "source": [
        "prefix = 'Py'\n",
        "prefix 'thon'  # Can't concatenate a variable and a string literal."
      ],
      "execution_count": null,
      "outputs": []
    },
    {
      "cell_type": "markdown",
      "metadata": {
        "id": "ldqTqPombfMC"
      },
      "source": [
        "* The following cell likewise produces an error:"
      ]
    },
    {
      "cell_type": "code",
      "metadata": {
        "trusted": true,
        "id": "lt5fTVMwbfMD"
      },
      "source": [
        "('un' * 3) 'ium'"
      ],
      "execution_count": null,
      "outputs": []
    },
    {
      "cell_type": "markdown",
      "metadata": {
        "id": "MH6kYb4PbfMG"
      },
      "source": [
        "* To concatenate variables, or a variable and a literal, we rather use `+` operator:"
      ]
    },
    {
      "cell_type": "code",
      "metadata": {
        "trusted": true,
        "id": "nfDbmrOVbfMH"
      },
      "source": [
        "prefix = 'Py'\n",
        "prefix + 'thon'"
      ],
      "execution_count": null,
      "outputs": []
    },
    {
      "cell_type": "markdown",
      "metadata": {
        "id": "8NzsoQM2bfMM"
      },
      "source": [
        "* Automatic concatenation is particularly useful when you want to break up long strings:"
      ]
    },
    {
      "cell_type": "code",
      "metadata": {
        "trusted": true,
        "id": "BhCHSUXbbfMO"
      },
      "source": [
        "text = ('Put several strings within parentheses '\n",
        "            'to have them joined together.')\n",
        "text"
      ],
      "execution_count": null,
      "outputs": []
    },
    {
      "cell_type": "markdown",
      "metadata": {
        "id": "UEyYs0CFbfMR"
      },
      "source": [
        "* Strings can be *indexed* (subscripted), with the first character having index 0. There is no separate character type; a character is simply a string of size one:"
      ]
    },
    {
      "cell_type": "code",
      "metadata": {
        "trusted": true,
        "id": "xcBp1nl6bfMS"
      },
      "source": [
        "word = 'Python'\n",
        "word[0]  # Character in position 0."
      ],
      "execution_count": null,
      "outputs": []
    },
    {
      "cell_type": "code",
      "metadata": {
        "trusted": true,
        "id": "9G0fD0HbbfMW"
      },
      "source": [
        "word[5]  # Character in position 5."
      ],
      "execution_count": null,
      "outputs": []
    },
    {
      "cell_type": "code",
      "metadata": {
        "id": "Pl2UQsatdgj8"
      },
      "source": [
        "type(word[5]) # There is no char type in Python"
      ],
      "execution_count": null,
      "outputs": []
    },
    {
      "cell_type": "markdown",
      "metadata": {
        "id": "sDLKXCCsbfMc"
      },
      "source": [
        "* Indices may also be negative numbers, which means to start counting from the end of the string. Note that because -0 is the same as 0, negative indices start from -1:"
      ]
    },
    {
      "cell_type": "code",
      "metadata": {
        "trusted": true,
        "id": "g1D_j1QRbfMd"
      },
      "source": [
        "word[-1]  # Last character."
      ],
      "execution_count": null,
      "outputs": []
    },
    {
      "cell_type": "code",
      "metadata": {
        "trusted": true,
        "id": "dy3Rv6v0bfMf"
      },
      "source": [
        "word[-2]  # Second-last character."
      ],
      "execution_count": null,
      "outputs": []
    },
    {
      "cell_type": "code",
      "metadata": {
        "trusted": true,
        "id": "x7a0MrxLbfMj"
      },
      "source": [
        "word[-6]"
      ],
      "execution_count": null,
      "outputs": []
    },
    {
      "cell_type": "code",
      "metadata": {
        "id": "6b4a8FTNdudN"
      },
      "source": [
        "word[-7] # be careful of the string ndex out of range!"
      ],
      "execution_count": null,
      "outputs": []
    },
    {
      "cell_type": "markdown",
      "metadata": {
        "id": "wOaPgPjHbfMn"
      },
      "source": [
        "* In addition to indexing, which extracts individual characters, Python also supports <font color=ff00ff>slicing</font>, which extracts a substring. \n",
        "* To slice, you indicate a *range* in the format `start:end`, where the start position is included but the end position is excluded:"
      ]
    },
    {
      "cell_type": "code",
      "metadata": {
        "trusted": true,
        "id": "zjrg3WvAbfMo"
      },
      "source": [
        "word[0:2]  # Characters from position 0 (included) to 2 (excluded)."
      ],
      "execution_count": null,
      "outputs": []
    },
    {
      "cell_type": "code",
      "metadata": {
        "trusted": true,
        "id": "aKQWI6E4bfMs"
      },
      "source": [
        "word[2:5]  # Characters from position 2 (included) to 5 (excluded)."
      ],
      "execution_count": null,
      "outputs": []
    },
    {
      "cell_type": "markdown",
      "metadata": {
        "id": "sl9yvobxbfMy"
      },
      "source": [
        "* If you omit either position, the default start position is 0 and the default end is the length of the string:"
      ]
    },
    {
      "cell_type": "code",
      "metadata": {
        "trusted": true,
        "id": "Qyd4ChMfbfM0"
      },
      "source": [
        "word[:2]   # Character from the beginning to position 2 (excluded)."
      ],
      "execution_count": null,
      "outputs": []
    },
    {
      "cell_type": "code",
      "metadata": {
        "trusted": true,
        "id": "2sFsPDtxbfM3"
      },
      "source": [
        "word[4:]  # Characters from position 4 (included) to the end."
      ],
      "execution_count": null,
      "outputs": []
    },
    {
      "cell_type": "code",
      "metadata": {
        "trusted": true,
        "id": "ld5gMRbybfM6"
      },
      "source": [
        "word[-2:] # Characters from the second-last (included) to the end."
      ],
      "execution_count": null,
      "outputs": []
    },
    {
      "cell_type": "markdown",
      "metadata": {
        "id": "6wQ8OarxbfM-"
      },
      "source": [
        "* This characteristic means that `s[:i] + s[i:]` is always equal to `s`:"
      ]
    },
    {
      "cell_type": "code",
      "metadata": {
        "trusted": true,
        "id": "cxM8QLcdbfM_"
      },
      "source": [
        "word[:2] + word[2:]"
      ],
      "execution_count": null,
      "outputs": []
    },
    {
      "cell_type": "code",
      "metadata": {
        "trusted": true,
        "id": "d7NA94cubfNC"
      },
      "source": [
        "word[:4] + word[4:]"
      ],
      "execution_count": null,
      "outputs": []
    },
    {
      "cell_type": "code",
      "metadata": {
        "id": "nly1BvaCeDOx"
      },
      "source": [
        "word[-3:] + word[:-3] # what can we do if we need the 'Python' as output?"
      ],
      "execution_count": null,
      "outputs": []
    },
    {
      "cell_type": "markdown",
      "metadata": {
        "id": "2OzN6noYbfNI"
      },
      "source": [
        "* Attempting to use an index that is too large results in an error:"
      ]
    },
    {
      "cell_type": "code",
      "metadata": {
        "trusted": true,
        "id": "4fRO9YHTbfNI"
      },
      "source": [
        "word[42]  # The word only has 6 characters."
      ],
      "execution_count": null,
      "outputs": []
    },
    {
      "cell_type": "markdown",
      "metadata": {
        "id": "E5mRQ641bfNM"
      },
      "source": [
        "* However, when used in a range, an index that's too large defaults to the size of the string and does not give an error. This characteristic is useful when you always want to slice at a particular index regardless of the length of a string:"
      ]
    },
    {
      "cell_type": "code",
      "metadata": {
        "trusted": true,
        "id": "kj9agTaMbfNO"
      },
      "source": [
        "word[4:42]"
      ],
      "execution_count": null,
      "outputs": []
    },
    {
      "cell_type": "code",
      "metadata": {
        "trusted": true,
        "id": "0Qv9rjgqbfNf"
      },
      "source": [
        "word[42:]"
      ],
      "execution_count": null,
      "outputs": []
    },
    {
      "cell_type": "markdown",
      "metadata": {
        "id": "EWk9KJ_SbfNi"
      },
      "source": [
        "* Python strings are [immutable](https://docs.python.org/3.5/glossary.html#term-immutable), which means they cannot be changed. Therefore, assigning a value to an indexed position in a string results in an error:"
      ]
    },
    {
      "cell_type": "code",
      "metadata": {
        "trusted": true,
        "id": "DzJKffhZbfNj"
      },
      "source": [
        "word[0] = 'J'"
      ],
      "execution_count": null,
      "outputs": []
    },
    {
      "cell_type": "markdown",
      "metadata": {
        "id": "aQ79ICvMbfNm"
      },
      "source": [
        "* The following cell also produces an error:"
      ]
    },
    {
      "cell_type": "code",
      "metadata": {
        "trusted": true,
        "id": "EftDHGLPbfNo"
      },
      "source": [
        "word[2:] = 'py'"
      ],
      "execution_count": null,
      "outputs": []
    },
    {
      "cell_type": "markdown",
      "metadata": {
        "id": "cRxFZyS6bfNs"
      },
      "source": [
        "* A slice it itself a value that you can concatenate with other values using `+`:"
      ]
    },
    {
      "cell_type": "code",
      "metadata": {
        "trusted": true,
        "id": "mMxyePstbfNt"
      },
      "source": [
        "'J' + word[1:]"
      ],
      "execution_count": null,
      "outputs": []
    },
    {
      "cell_type": "code",
      "metadata": {
        "trusted": true,
        "id": "Horlo9ZYbfNy"
      },
      "source": [
        "word[:2] + 'Py'"
      ],
      "execution_count": null,
      "outputs": []
    },
    {
      "cell_type": "markdown",
      "metadata": {
        "id": "DFnztb5TbfN2"
      },
      "source": [
        "* A slice, however, is not a string literal and cannot be used with automatic concatenation. The following code produces an error:"
      ]
    },
    {
      "cell_type": "code",
      "metadata": {
        "trusted": true,
        "id": "EapJ6CcAbfN4"
      },
      "source": [
        "word[:2] 'Py'    # Slice is not a literal; produces an error"
      ],
      "execution_count": null,
      "outputs": []
    },
    {
      "cell_type": "markdown",
      "metadata": {
        "id": "WElzR37KbfN6"
      },
      "source": [
        "The built-in function [`len()`](https://docs.python.org/3.5/library/functions.html#len) returns the length of a string:"
      ]
    },
    {
      "cell_type": "code",
      "metadata": {
        "trusted": true,
        "id": "8h_1c5UYbfN7"
      },
      "source": [
        "s = 'supercalifragilisticexpialidocious'\n",
        "len(s)"
      ],
      "execution_count": null,
      "outputs": []
    },
    {
      "cell_type": "markdown",
      "metadata": {
        "id": "udn5nkO_uUlS"
      },
      "source": [
        "* The built-in function `type()` will return str:"
      ]
    },
    {
      "cell_type": "code",
      "metadata": {
        "id": "x0Cg5XDHuQH3"
      },
      "source": [
        "type(s)"
      ],
      "execution_count": null,
      "outputs": []
    },
    {
      "cell_type": "markdown",
      "metadata": {
        "id": "dVbSIIGobfN-"
      },
      "source": [
        "## Lists"
      ]
    },
    {
      "cell_type": "markdown",
      "metadata": {
        "id": "zIh8B7G7bfN_"
      },
      "source": [
        "* Python knows a number of <font color=ff00ff>compound</font> data types, which are used to group together other values. \n",
        "* The most versatile is the [list](https://docs.python.org/3.5/library/stdtypes.html#typesseq-list), which can be written as a sequence of comma-separated values (items) between square brackets. \n",
        "* Lists might contain items of different types, but usually the items all have the same type."
      ]
    },
    {
      "cell_type": "code",
      "metadata": {
        "trusted": true,
        "id": "IFg7mBEUbfOA"
      },
      "source": [
        "squares = [1, 4, 9, 16, 25]\n",
        "squares"
      ],
      "execution_count": null,
      "outputs": []
    },
    {
      "cell_type": "markdown",
      "metadata": {
        "id": "OZ6G4ui4bfOE"
      },
      "source": [
        "* Like strings (and all other built-in [sequence](https://docs.python.org/3.5/glossary.html#term-sequence) types), lists can be indexed and sliced:"
      ]
    },
    {
      "cell_type": "code",
      "metadata": {
        "trusted": true,
        "id": "3cxzaBkXbfOH"
      },
      "source": [
        "squares[0]  # Indexing returns the item."
      ],
      "execution_count": null,
      "outputs": []
    },
    {
      "cell_type": "code",
      "metadata": {
        "trusted": true,
        "id": "B3e7UFBzbfOL"
      },
      "source": [
        "squares[-1]"
      ],
      "execution_count": null,
      "outputs": []
    },
    {
      "cell_type": "code",
      "metadata": {
        "trusted": true,
        "id": "EwfJ1g7hbfON"
      },
      "source": [
        "squares[-3:]  # Slicing returns a new list."
      ],
      "execution_count": null,
      "outputs": []
    },
    {
      "cell_type": "markdown",
      "metadata": {
        "id": "Ahnp0na9bfOR"
      },
      "source": [
        "* All slice operations return a <font color=ff00ff>new</font> list containing the requested elements. This means that the following slice returns a new (shallow) copy of the list:"
      ]
    },
    {
      "cell_type": "code",
      "metadata": {
        "trusted": true,
        "id": "604RHIptbfOS"
      },
      "source": [
        "newList = squares[:]\n",
        "newList"
      ],
      "execution_count": null,
      "outputs": []
    },
    {
      "cell_type": "markdown",
      "metadata": {
        "id": "8pa6hlupbfOV"
      },
      "source": [
        "* Lists also support concatenation with the `+` operator:"
      ]
    },
    {
      "cell_type": "code",
      "metadata": {
        "trusted": true,
        "id": "RYC7rxDsbfOW"
      },
      "source": [
        "squares + [36, 49, 64, 81, 100]"
      ],
      "execution_count": null,
      "outputs": []
    },
    {
      "cell_type": "markdown",
      "metadata": {
        "id": "andKen4zbfOZ"
      },
      "source": [
        "* Unlike strings, which are [immutable](https://docs.python.org/3.5/glossary.html#term-immutable), lists are a [mutable](https://docs.python.org/3.5/glossary.html#term-mutable) type, which means you can change any value in the list:"
      ]
    },
    {
      "cell_type": "code",
      "metadata": {
        "trusted": true,
        "id": "Ze9MPsn_bfOa"
      },
      "source": [
        "cubes = [1, 8, 27, 65, 125]  # Something's wrong here ...\n",
        "4 ** 3  # the cube of 4 is 64, not 65!"
      ],
      "execution_count": null,
      "outputs": []
    },
    {
      "cell_type": "code",
      "metadata": {
        "trusted": true,
        "id": "LFmfEQRHbfOd"
      },
      "source": [
        "cubes[3] = 64  # Replace the wrong value.\n",
        "cubes"
      ],
      "execution_count": null,
      "outputs": []
    },
    {
      "cell_type": "markdown",
      "metadata": {
        "id": "RHXA_yNybfOh"
      },
      "source": [
        "* Use the list's <font color=ff00ff>`append()`</font> method to add new items to the end of the list:"
      ]
    },
    {
      "cell_type": "code",
      "metadata": {
        "trusted": true,
        "id": "s0aYDO9ObfOj"
      },
      "source": [
        "cubes.append(216)  # Add the cube of 6 ...\n",
        "cubes.append(7 ** 3)  # and the cube of 7.\n",
        "cubes"
      ],
      "execution_count": null,
      "outputs": []
    },
    {
      "cell_type": "markdown",
      "metadata": {
        "id": "AjjtclgebfOp"
      },
      "source": [
        "* You can even assign to slices, which can change the size of the list or clear it entirely:"
      ]
    },
    {
      "cell_type": "code",
      "metadata": {
        "trusted": true,
        "id": "TU8sVKrwbfOp"
      },
      "source": [
        "letters = ['a', 'b', 'c', 'd', 'e', 'f', 'g']\n",
        "letters"
      ],
      "execution_count": null,
      "outputs": []
    },
    {
      "cell_type": "code",
      "metadata": {
        "trusted": true,
        "id": "oQDi-78sbfOu"
      },
      "source": [
        "# Replace some values.\n",
        "letters[2:5] = ['C', 'D', 'E']\n",
        "#letters[2:3] = ['C', 'D', 'E']\n",
        "letters"
      ],
      "execution_count": null,
      "outputs": []
    },
    {
      "cell_type": "code",
      "metadata": {
        "trusted": true,
        "id": "ODt273SSbfOy"
      },
      "source": [
        "# Now remove them.\n",
        "letters[2:5] = []\n",
        "letters"
      ],
      "execution_count": null,
      "outputs": []
    },
    {
      "cell_type": "code",
      "metadata": {
        "trusted": true,
        "id": "jxvcnIcfbfO2"
      },
      "source": [
        "# Clear the list by replacing all the elements with an empty list.\n",
        "letters[:] = []\n",
        "letters"
      ],
      "execution_count": null,
      "outputs": []
    },
    {
      "cell_type": "markdown",
      "metadata": {
        "id": "4W63meI4bfO6"
      },
      "source": [
        "* The built-in [`len()`](https://docs.python.org/3.5/library/functions.html#len) function also applies to lists:"
      ]
    },
    {
      "cell_type": "code",
      "metadata": {
        "trusted": true,
        "id": "Xgr7KcLfbfO6"
      },
      "source": [
        "letters = ['a', 'b', 'c', 'd']\n",
        "len(letters)"
      ],
      "execution_count": null,
      "outputs": []
    },
    {
      "cell_type": "markdown",
      "metadata": {
        "id": "nsnuyx39P_XT"
      },
      "source": [
        "* <font color=ff00ff>`in`</font> can be used to check whether an item is a member of a list."
      ]
    },
    {
      "cell_type": "code",
      "metadata": {
        "id": "0oZA9YTKQFW4"
      },
      "source": [
        "'Hello' in ['World', 'Hello', 'DAT']"
      ],
      "execution_count": null,
      "outputs": []
    },
    {
      "cell_type": "markdown",
      "metadata": {
        "id": "DYHeXE-TLI8i"
      },
      "source": [
        "###Insert and Delete"
      ]
    },
    {
      "cell_type": "markdown",
      "metadata": {
        "id": "OUyrNLW8ioFY"
      },
      "source": [
        "* As we have already seen, we can add an additional member to the end of a list, using `append()`:"
      ]
    },
    {
      "cell_type": "code",
      "metadata": {
        "id": "S1KJMJ_pi7a2"
      },
      "source": [
        "my_cubes = [1, 8, 27, 64, 125]\n",
        "print(my_cubes)\n",
        "\n",
        "my_cubes.append(6**3)\n",
        "print(my_cubes)"
      ],
      "execution_count": null,
      "outputs": []
    },
    {
      "cell_type": "markdown",
      "metadata": {
        "id": "8EEfx2_CjQM3"
      },
      "source": [
        "* However, we can also insert an additional member $i$ at any position to a list, using <font color=ff00ff>`insert(pos, `$i$`)`</font>:"
      ]
    },
    {
      "cell_type": "code",
      "metadata": {
        "id": "NQd5tiuRjrSS"
      },
      "source": [
        "my_cubes.append(8**3)\n",
        "print(my_cubes)\n",
        "\n",
        "my_cubes.insert(6, 7**3)\n",
        "print(my_cubes)"
      ],
      "execution_count": null,
      "outputs": []
    },
    {
      "cell_type": "markdown",
      "metadata": {
        "id": "U92Vdh3akZvx"
      },
      "source": [
        "* We can also delete a member from a list, e.g. <font color=ff00ff>`del`</font> `my_cubes[6]` will delete the number `343` that is at position `6` from the above `my_cubes` list. "
      ]
    },
    {
      "cell_type": "code",
      "metadata": {
        "id": "r5AEdxKxk3Wg"
      },
      "source": [
        "print(my_cubes)\n",
        "del my_cubes[6]\n",
        "print(my_cubes)"
      ],
      "execution_count": null,
      "outputs": []
    },
    {
      "cell_type": "code",
      "metadata": {
        "id": "o0F60Le-lCZ9"
      },
      "source": [
        "del my_cubes[5:]\n",
        "print(my_cubes)"
      ],
      "execution_count": null,
      "outputs": []
    },
    {
      "cell_type": "markdown",
      "metadata": {
        "id": "_lEnvxWjLpNK"
      },
      "source": [
        "###Nested List"
      ]
    },
    {
      "cell_type": "markdown",
      "metadata": {
        "id": "Tu7i7z7ybfO-"
      },
      "source": [
        "* You can nest lists, which means to create lists in which contain other lists. For example:"
      ]
    },
    {
      "cell_type": "code",
      "metadata": {
        "trusted": true,
        "id": "eAnRCjKwbfO-"
      },
      "source": [
        "a = ['a', 'b', 'c']\n",
        "n = [1, 2, 3]\n",
        "x = [a, n]\n",
        "x"
      ],
      "execution_count": null,
      "outputs": []
    },
    {
      "cell_type": "code",
      "metadata": {
        "trusted": true,
        "id": "juvsqsoqbfPB"
      },
      "source": [
        "x[0]"
      ],
      "execution_count": null,
      "outputs": []
    },
    {
      "cell_type": "code",
      "metadata": {
        "trusted": true,
        "id": "oIacbr7ybfPE"
      },
      "source": [
        "x[0][1]"
      ],
      "execution_count": null,
      "outputs": []
    },
    {
      "cell_type": "markdown",
      "metadata": {
        "id": "AuLA9HssLSQW"
      },
      "source": [
        "###Sort and Sorted List"
      ]
    },
    {
      "cell_type": "markdown",
      "metadata": {
        "id": "2Tb_95WplWdD"
      },
      "source": [
        "* To sort the items in a list, we use <font color=ff00ff>`sort()`</font> and <font color=ff00ff>`sorted(..)`</font>:"
      ]
    },
    {
      "cell_type": "code",
      "metadata": {
        "id": "1KPRzTLbllxm"
      },
      "source": [
        "alist = [3, 8, 5, 10, 2, 9, 7, 6, 3, 8, 1, 7, 4]\n",
        "alist.sort()\n",
        "print(alist) # now items has been sorted and changed."
      ],
      "execution_count": null,
      "outputs": []
    },
    {
      "cell_type": "code",
      "metadata": {
        "id": "sImFxto4l1w0"
      },
      "source": [
        "old_alist = [3, 8, 5, 10, 2, 9, 7, 6, 3, 8, 1, 7, 4]\n",
        "new_alist = sorted(old_alist)\n",
        "new_alist2 = sorted(old_alist, reverse=True)\n",
        "print('Old alist:', old_alist)\n",
        "print('New alist:', new_alist)\n",
        "print('New alist2:', new_alist2)"
      ],
      "execution_count": null,
      "outputs": []
    },
    {
      "cell_type": "code",
      "metadata": {
        "id": "m7rxUOu6mGw4"
      },
      "source": [
        "blist = [2.0, \"World\", 'Hello', 1, True]\n",
        "print(blist)\n",
        "new_blist = sorted(blist) # Why cannot we sort this list?\n",
        "print(new_blist)"
      ],
      "execution_count": null,
      "outputs": []
    },
    {
      "cell_type": "markdown",
      "metadata": {
        "id": "1REG9IxBKuVD"
      },
      "source": [
        "###List Traversal"
      ]
    },
    {
      "cell_type": "code",
      "metadata": {
        "id": "6MshV3TnM0rK"
      },
      "source": [
        "scores = [37.5, 72.0, 84.5, 67.0, 80.0, 78.5, 87.5, 48.5]\n",
        "print(scores, end='\\n\\n')\n",
        "\n",
        "print('Finding the scores higher than 80..')\n",
        "for s in sorted(scores, reverse=True):\n",
        "  if s >= 80:\n",
        "    print(s, end=' ')\n",
        "print()"
      ],
      "execution_count": null,
      "outputs": []
    },
    {
      "cell_type": "markdown",
      "metadata": {
        "id": "inHrwponYktC"
      },
      "source": [
        "###List Comprehension"
      ]
    },
    {
      "cell_type": "markdown",
      "metadata": {
        "id": "TL1eWoxpYnnB"
      },
      "source": [
        "* List comprehensions in Python are constructed as follows:\n",
        "```python\n",
        "list_variable = [x for x in iterable]\n",
        "```"
      ]
    },
    {
      "cell_type": "code",
      "metadata": {
        "id": "Dtvi6UneY5pX"
      },
      "source": [
        "S = [x**2 for x in range(10)]\n",
        "print(S)\n",
        "\n",
        "V = [2**i for i in range(13)]\n",
        "print(V)\n",
        "\n",
        "M = [x for x in S if x % 2 == 0]\n",
        "print(M)\n",
        "\n",
        "sentence = 'the rocket came back from mars'\n",
        "vowels = [i for i in sentence if i in 'aeiou']\n",
        "print(vowels)"
      ],
      "execution_count": null,
      "outputs": []
    },
    {
      "cell_type": "markdown",
      "metadata": {
        "id": "noahZuimKutH"
      },
      "source": [
        "##Your exercise 9:"
      ]
    },
    {
      "cell_type": "markdown",
      "metadata": {
        "id": "FtZfbfU4Qdj5"
      },
      "source": [
        "a) Given a list of integers `[3, 8, 5, 10, 2, 9, 7, 6, 3, 8, 1, 4]`, write a Python code to delete the duplicate members in that list and print the resulting list in ascending order."
      ]
    },
    {
      "cell_type": "code",
      "metadata": {
        "id": "E9CBaU28RBYi"
      },
      "source": [
        "old_list = [3, 8, 5, 10, 2, 9, 7, 2, 4, 6, 3, 8, 1, 4]\n",
        "new_list = []\n",
        "\n",
        "# implement your code here\n",
        "\n",
        "print(new_list) # we need [1, 2, 3, 4, 5, 6, 7, 8, 9, 10] as output"
      ],
      "execution_count": null,
      "outputs": []
    },
    {
      "cell_type": "markdown",
      "metadata": {
        "id": "AvVKAfrPR_hM"
      },
      "source": [
        "b) Write a Python code that asks user to enter a sequence of scores with an empty input to indicate the end of the score sequence. The program then prints out all the scores ranked from the highest to the lowest.\n",
        "\n",
        "**Sample run 01:**\n",
        "```python\n",
        "Input student score (or ENTER to end): 13↵\n",
        "Input student score (or ENTER to end): 19↵\n",
        "Input student score (or ENTER to end): 10↵\n",
        "Input student score (or ENTER to end): ↵\n",
        "Rank #1: 19`\n",
        "Rank #2: 13`\n",
        "Rank #3: 10`\n",
        "```\n",
        "**Sample run 02:**\n",
        "```python\n",
        "Input student score (or ENTER to end): 87↵\n",
        "Input student score (or ENTER to end): 56↵\n",
        "Input student score (or ENTER to end): 73↵\n",
        "Input student score (or ENTER to end): 59↵\n",
        "Input student score (or ENTER to end): 90↵\n",
        "Input student score (or ENTER to end): 72↵\n",
        "Input student score (or ENTER to end): ↵\n",
        "Rank #1: 90\n",
        "Rank #2: 87\n",
        "Rank #3: 73\n",
        "Rank #4: 72\n",
        "Rank #5: 59\n",
        "Rank #6: 56\n",
        "```"
      ]
    },
    {
      "cell_type": "code",
      "metadata": {
        "id": "iKahySQZRrDo"
      },
      "source": [
        "# implement your code here"
      ],
      "execution_count": null,
      "outputs": []
    },
    {
      "cell_type": "markdown",
      "metadata": {
        "id": "i53_MCPLZPS4"
      },
      "source": [
        "c) Define a list Q, using list comprehension, to follow the following mathematical formula:\n",
        "\n",
        "<center>$Q = \\{\\text{x is divisible by 2 and 5 }: \\text{ x in } \\{0..100\\}\\}$</center>"
      ]
    },
    {
      "cell_type": "code",
      "metadata": {
        "id": "22KDMlfQc0oT"
      },
      "source": [
        "# implement your list comprehension statement here"
      ],
      "execution_count": null,
      "outputs": []
    },
    {
      "cell_type": "markdown",
      "metadata": {
        "id": "5LOzPjrQaBd4"
      },
      "source": [
        "##Tuple"
      ]
    },
    {
      "cell_type": "markdown",
      "metadata": {
        "id": "lm83FslroYwq"
      },
      "source": [
        "We can say that <font color=ff00ff>tuple</font> is a <font color='00ffff'>constant list</font> that its inside member cannot be changed.\n",
        "\n",
        "Tuple uses `( )` to delimit itself, and uses comma to separate its members. "
      ]
    },
    {
      "cell_type": "markdown",
      "metadata": {
        "id": "az1jrInQuhG-"
      },
      "source": [
        "* We can define an (x, y) coordination system using tuple that have 2 inside members."
      ]
    },
    {
      "cell_type": "code",
      "metadata": {
        "id": "1jxey0WRo6eS"
      },
      "source": [
        "coor1 = (3, 5)\n",
        "coor2 = (4, 7)\n",
        "print(coor1)\n",
        "print(coor2)"
      ],
      "execution_count": null,
      "outputs": []
    },
    {
      "cell_type": "markdown",
      "metadata": {
        "id": "rq0ZrFB1VbH_"
      },
      "source": [
        "* A tuple can have any number of members but at least two."
      ]
    },
    {
      "cell_type": "code",
      "metadata": {
        "id": "JLp9Si13VTcy"
      },
      "source": [
        "my_tuple = (3, 8, 5, 10, 2, 9, 7, 6, 3, 8, 1, 4)\n",
        "print(my_tuple)"
      ],
      "execution_count": null,
      "outputs": []
    },
    {
      "cell_type": "markdown",
      "metadata": {
        "id": "lGNjLCohubSI"
      },
      "source": [
        "* As in a list, member in a tuple can be any type."
      ]
    },
    {
      "cell_type": "code",
      "metadata": {
        "id": "tPjFmQzXpOxU"
      },
      "source": [
        "type((1,2.3,'Hello'))"
      ],
      "execution_count": null,
      "outputs": []
    },
    {
      "cell_type": "markdown",
      "metadata": {
        "id": "kTt5jt29uTVk"
      },
      "source": [
        "* Member in a tuple can be accessed using the list's indexing style"
      ]
    },
    {
      "cell_type": "code",
      "metadata": {
        "id": "_oFoipwSprY6"
      },
      "source": [
        "tmp = (1,2.3,'Hello')\n",
        "a, b, c = tmp[0], tmp[1], tmp[2]\n",
        "print(a, b, c)\n",
        "# and we can use `len()` to see how many members are in a tuple, too.\n",
        "len(tmp)"
      ],
      "execution_count": null,
      "outputs": []
    },
    {
      "cell_type": "markdown",
      "metadata": {
        "id": "MfBRD3siuNpV"
      },
      "source": [
        "*  Tuple can be sliced, too."
      ]
    },
    {
      "cell_type": "code",
      "metadata": {
        "id": "AtvRvu-FqU1k"
      },
      "source": [
        "numbers = (0,1,2,3.0,'four',5,6,7,8,9,10)\n",
        "for i in numbers[1:5]:\n",
        "  print(i)"
      ],
      "execution_count": null,
      "outputs": []
    },
    {
      "cell_type": "markdown",
      "metadata": {
        "id": "RE3dnWE-uFFN"
      },
      "source": [
        "* Two tuples can be compared, consecutively pair by pair,\n",
        " and if that pair are the same, the next pair is evaluated next."
      ]
    },
    {
      "cell_type": "code",
      "metadata": {
        "id": "G4PNGGaprJNm"
      },
      "source": [
        "(1, 2, 3) < (1, 2, 4)        # the 1st tuple is less than the 2nd one, since 3 < 4"
      ],
      "execution_count": null,
      "outputs": []
    },
    {
      "cell_type": "markdown",
      "metadata": {
        "id": "5VXjSGw8t5Vm"
      },
      "source": [
        "* The 1st tuple is less than the 2nd one, since the 2nd one is longer."
      ]
    },
    {
      "cell_type": "code",
      "metadata": {
        "id": "7Pw1ByBtsFOQ"
      },
      "source": [
        "(1, 2, 4) < (1, 2, 3, 0)     "
      ],
      "execution_count": null,
      "outputs": []
    },
    {
      "cell_type": "markdown",
      "metadata": {
        "id": "54tiONlZt19z"
      },
      "source": [
        "* Could you explain what's happened here?"
      ]
    },
    {
      "cell_type": "code",
      "metadata": {
        "id": "gojGVHYAsbp0"
      },
      "source": [
        "(1, 'Hello', 3.0) < (1, 3, 'World') "
      ],
      "execution_count": null,
      "outputs": []
    },
    {
      "cell_type": "markdown",
      "metadata": {
        "id": "HiFKkwJxtBO-"
      },
      "source": [
        "* We can also use tuple as a member of list, and loop within that list."
      ]
    },
    {
      "cell_type": "code",
      "metadata": {
        "id": "U4TFsuGPtAl4"
      },
      "source": [
        "student_scores = [\n",
        "    ('John', 35.5), ('Mary', 73.0), ('Cindy', 83.5), ('Sean', 65.0),\n",
        "    ('Barry', 81.0), ('Mark', 79.5), ('Eugene', 87.0), ('Bob', 49.5)\n",
        "]\n",
        "\n",
        "for (name, score) in student_scores:\n",
        "    print(name, ':', score)"
      ],
      "execution_count": null,
      "outputs": []
    },
    {
      "cell_type": "markdown",
      "metadata": {
        "id": "HgwnSIg-tVVY"
      },
      "source": [
        "* We can also append a tuple into a list."
      ]
    },
    {
      "cell_type": "code",
      "metadata": {
        "id": "q4oEYyy5tied"
      },
      "source": [
        "student_scores = [\n",
        "    ('John', 35.5), ('Mary', 73.0), ('Cindy', 83.5), ('Sean', 65.0),\n",
        "    ('Barry', 81.0), ('Mark', 79.5), ('Eugene', 87.0), ('Bob', 49.5)\n",
        "]\n",
        "\n",
        "student_scores.append( ('Peter', 90.0) ) \n",
        "\n",
        "for (name, score) in student_scores:\n",
        "    print(name, ':', score)"
      ],
      "execution_count": null,
      "outputs": []
    },
    {
      "cell_type": "code",
      "metadata": {
        "id": "m3rEjjX6tHeY"
      },
      "source": [
        ""
      ],
      "execution_count": null,
      "outputs": []
    },
    {
      "cell_type": "markdown",
      "metadata": {
        "id": "mU94HVYvm9CN"
      },
      "source": [
        "##Dictionary"
      ]
    },
    {
      "cell_type": "markdown",
      "metadata": {
        "id": "-drU6HeWnAnr"
      },
      "source": [
        "* <font color=ff00ff>Dictionary</font> is a data structure that each member connects a <font color=00ffff>key</font> to a <font color=00ffff>value</font>.\n",
        "* Key can be number, string, and though a tuple, and value can be object of any type in Python.\n",
        "* Dictionary is different from list such that members in list can be accessed sequentially by integer index from `0`, while those members in dictionary can be accessed by keys that could be any data types."
      ]
    },
    {
      "cell_type": "markdown",
      "metadata": {
        "id": "6etGdVZz1FNP"
      },
      "source": [
        "* We can create an empty dictionary using `{ }`, and assign or append new pair members like as follows. "
      ]
    },
    {
      "cell_type": "code",
      "metadata": {
        "id": "bvncqFQ31iZ1"
      },
      "source": [
        "dico = {}\n",
        "dico['one']='un'\n",
        "dico['two']='deux'\n",
        "dico['three']='trois'\n",
        "dico['four']='quatre'\n",
        "dico"
      ],
      "execution_count": null,
      "outputs": []
    },
    {
      "cell_type": "code",
      "metadata": {
        "id": "eLcesYRgp9ZA"
      },
      "source": [
        "dico[5] = 'ห้า'\n",
        "dico"
      ],
      "execution_count": null,
      "outputs": []
    },
    {
      "cell_type": "markdown",
      "metadata": {
        "id": "dRJoLS9N2mXx"
      },
      "source": [
        "* We can creat the whole dictionary using `key` `:` `value` pairs, separated by comma as follows."
      ]
    },
    {
      "cell_type": "code",
      "metadata": {
        "id": "0rRSJJZIuHq0"
      },
      "source": [
        "a={1:\"Hello\", 2.0:\"เวริลด์,\", \"สาม\":\"welcome to\", None:\"204111\", \n",
        "   False:\"Waoh, it cannot be True!\", (1,2):'ไม่จริงนะ'}\n",
        "a"
      ],
      "execution_count": null,
      "outputs": []
    },
    {
      "cell_type": "code",
      "metadata": {
        "id": "-DhDVkLaw7gK"
      },
      "source": [
        "a[(1,2)]"
      ],
      "execution_count": null,
      "outputs": []
    },
    {
      "cell_type": "markdown",
      "metadata": {
        "id": "-LOkBPN83Bs3"
      },
      "source": [
        "* One simple way to browse into a dictionary is to use the `for key in dicVar.keys()` statement as follows."
      ]
    },
    {
      "cell_type": "code",
      "metadata": {
        "id": "Sm9AuLQzwVCR"
      },
      "source": [
        "print(f'{\"key\"}\\t{\"value\"}')\n",
        "print(f'---------------------------------')\n",
        "for k in a: # You can try for k in a.keys(): too\n",
        "  if k==None or type(k)==type((1,1)):\n",
        "    print(f'{k}\\t{a[k]}')\n",
        "  else:\n",
        "    print(f'{k:<}\\t{a[k]}')"
      ],
      "execution_count": null,
      "outputs": []
    },
    {
      "cell_type": "markdown",
      "metadata": {
        "id": "H2NUHvP-4Kt8"
      },
      "source": [
        "* We can change the value corresponding to the old key using `dicVar[key]` `=` `newValue`\n",
        "* Said in another way, if we append the new value with the old key, that old key will bind with that new value."
      ]
    },
    {
      "cell_type": "code",
      "metadata": {
        "id": "ZbaGIj4N417E"
      },
      "source": [
        "a[False] = True\n",
        "a"
      ],
      "execution_count": null,
      "outputs": []
    },
    {
      "cell_type": "markdown",
      "metadata": {
        "id": "_dCAmkQuHKKD"
      },
      "source": [
        "* (Revisite) loop within members in a dictionary, using `for` `key` `in` `dictVar:`. "
      ]
    },
    {
      "cell_type": "code",
      "metadata": {
        "id": "VV5asErDHptX"
      },
      "source": [
        "student_dict = { 'Jerry': 37.5, 'Mary': 73.0, 'Cindy': 83.5, 'Sean': 65.0,\n",
        "                  'Bertran': 82.4, 'Tom': 69.5, 'Eugene': 87.0, 'Boby': 47.5}\n",
        "\n",
        "for name in student_dict:\n",
        "    print(name, ':', student_dict[name])"
      ],
      "execution_count": null,
      "outputs": []
    },
    {
      "cell_type": "markdown",
      "metadata": {
        "id": "owMFugq9Hvcj"
      },
      "source": [
        "* We can sort the keys in the dictionary, using `sorted()`."
      ]
    },
    {
      "cell_type": "code",
      "metadata": {
        "id": "ZodDPZt9H82f"
      },
      "source": [
        "student_dict = { 'Jerry': 37.5, 'Mary': 73.0, 'Cindy': 83.5, 'Sean': 65.0,\n",
        "                  'Bertran': 82.4, 'Tom': 69.5, 'Eugene': 87.0, 'Boby': 47.5}\n",
        "\n",
        "\n",
        "for name in sorted(student_dict):\n",
        "    print(name, ':', student_dict[name])"
      ],
      "execution_count": null,
      "outputs": []
    },
    {
      "cell_type": "markdown",
      "metadata": {
        "id": "0nEtw3RSIXnl"
      },
      "source": [
        "* We can also use `dictVar.items()` to extract both key and value (i.e., a tuple of key and value) during iteration."
      ]
    },
    {
      "cell_type": "code",
      "metadata": {
        "id": "VfaXllHdIkDB"
      },
      "source": [
        "student_dict = { 'Jerry': 37.5, 'Mary': 73.0, 'Cindy': 83.5, 'Sean': 65.0,\n",
        "                  'Bertran': 82.4, 'Tom': 69.5, 'Eugene': 87.0, 'Boby': 47.5}\n",
        "\n",
        "for name, score in sorted(student_dict.items()):\n",
        "    print(name, ':', score)"
      ],
      "execution_count": null,
      "outputs": []
    },
    {
      "cell_type": "markdown",
      "metadata": {
        "id": "X-dex-w4KAcq"
      },
      "source": [
        "* We can use `del`, a keyword in Python, to delete an object (aka. a key-value pair) member in a dictionary."
      ]
    },
    {
      "cell_type": "code",
      "metadata": {
        "id": "WbHq6cFMHO91"
      },
      "source": [
        "print(sorted(student_dict))\n",
        "del student_dict['Boby']\n",
        "print(sorted(student_dict))"
      ],
      "execution_count": null,
      "outputs": []
    },
    {
      "cell_type": "code",
      "metadata": {
        "id": "EUBYF9EUKzXB"
      },
      "source": [
        "del student_dict['Toto'] # an Keyerror error occurs when deleting a non-existent key "
      ],
      "execution_count": null,
      "outputs": []
    },
    {
      "cell_type": "markdown",
      "metadata": {
        "id": "m7uw7ENaLS1L"
      },
      "source": [
        "* Python dictionary method `get()` returns a value for the given key. If key is not available then returns default value `None`.\n",
        "`dict.get(key, default = None)`"
      ]
    },
    {
      "cell_type": "code",
      "metadata": {
        "id": "4SDCsz47LYG-"
      },
      "source": [
        "dict = {'Name': 'Zabra', 'Age': 7}\n",
        "print(\"Value : %s\" %  dict.get('Age'))\n",
        "print(\"Value : %s\" %  dict.get('Education', \"Never\"))"
      ],
      "execution_count": null,
      "outputs": []
    },
    {
      "cell_type": "markdown",
      "metadata": {
        "id": "5sKGWFr7LI3h"
      },
      "source": [
        "##Your exercise 10:"
      ]
    },
    {
      "cell_type": "markdown",
      "metadata": {
        "id": "gY7Maz6tMDnX"
      },
      "source": [
        "a) Complete the following program to let it asks for student's name;\n",
        "* if that input student's name is found, print his/her score,\n",
        "* else let the program ask for score for this new student and append his/her name and score in the dictionary. \n",
        "* the program continue to ask for the student's name, and loop for ever, till the user press only *ENTER* to exit the loop and print the student's dictionary."
      ]
    },
    {
      "cell_type": "code",
      "metadata": {
        "id": "JetMpc57Nflt"
      },
      "source": [
        "# student's dictionary\n",
        "student_dict = { 'Jerry': 37.5, 'Mary': 73.0, 'Cindy': 83.5, 'Sean': 65.0,\n",
        "                  'Bertran': 82.4, 'Tom': 69.5, 'Eugene': 87.0, 'Boby': 47.5}\n",
        "\n",
        "# forever loop\n",
        "while True:\n",
        "    # get student's name from the user\n",
        "    name = input('Enter student name: ')\n",
        "    # if the input is a null struing, stop the program using break\n",
        "    __________       # complete your code here\n",
        "       \n",
        "    # if name is found in student_dict \n",
        "    if __________ :\n",
        "        # print name and score to screen\n",
        "        print('Name:', name, 'Score =', __________ )       # complete your code here\n",
        "    else:\n",
        "        # seem that this is a new student, so get his/her score\n",
        "        score = float(input('Enter score: '))\n",
        "        # record the new name and score into the dictionary\n",
        "        __________       # complete your code here        \n",
        "    print()\n",
        "        \n",
        "print(student_dict)"
      ],
      "execution_count": null,
      "outputs": []
    },
    {
      "cell_type": "markdown",
      "metadata": {
        "id": "M8UmLl7SO2yX"
      },
      "source": [
        "b) Write a program to test whether a student is in the following status:\n",
        "* \"probation\" if score < 50\n",
        "* \"excellent\" if score >= 80\n",
        "* \"very good\" if score >= 70\n",
        "* \"good if score\" >= 60\n",
        "* \"pass\" otherwise."
      ]
    },
    {
      "cell_type": "code",
      "metadata": {
        "id": "XdKmJ9krPldx"
      },
      "source": [
        "# student's dictionary\n",
        "student_dict = { 'Jerry': 37.5, 'Mary': 73.0, 'Cindy': 83.5, 'Sean': 65.0,\n",
        "                  'Bertran': 82.4, 'Tom': 69.5, 'Eugene': 87.0, 'Boby': 47.5}\n",
        "\n",
        "# use for loop to browse through the sorted dictionary to test each student and print his/her status\n",
        "for __________ :\n",
        "    # he/she is on probation if socre < 50 \n",
        "    if __________ :\n",
        "        print( __________ , 'is on probation.')\n",
        "    __________ \n",
        "    __________ "
      ],
      "execution_count": null,
      "outputs": []
    },
    {
      "cell_type": "markdown",
      "metadata": {
        "id": "FpMBJAymAeRj"
      },
      "source": [
        "##Files"
      ]
    },
    {
      "cell_type": "markdown",
      "metadata": {
        "id": "fAyZhEmjcBuG"
      },
      "source": [
        "* We can have access to file by opening a <font color=ff00ff>file handler</font> using function `open(filename, read_write_method)`, while `read_write_method` could be either `r`, `w` or `a`."
      ]
    },
    {
      "cell_type": "code",
      "metadata": {
        "id": "-lPdnMz5c1mA"
      },
      "source": [
        "fhd01 = open('test.txt', 'w') # open a new file named 'test.txt' for writing\n",
        "for i in range(1, 6):\n",
        "  fhd01.write(f'{10*i}\\n')    # fileHandler.write(..) to write that string\n",
        "fhd01.close() # always close file to let data write through the file\n",
        "print('Done')"
      ],
      "execution_count": null,
      "outputs": []
    },
    {
      "cell_type": "code",
      "metadata": {
        "id": "YoUi1sSVdtjc"
      },
      "source": [
        "fhd01 = open('test.txt', 'r') # open file 'test.txt' for reading\n",
        "mysum = 0\n",
        "for line in fhd01:\n",
        "  print(line.strip())         # strip the \\n at the end of line\n",
        "  mysum = mysum + int(line)   # sum up the number read \n",
        "fhd01.close()\n",
        "print(f'Sum = {mysum}')\n",
        "print('Done')"
      ],
      "execution_count": null,
      "outputs": []
    },
    {
      "cell_type": "code",
      "metadata": {
        "id": "bkrgYUQIeWo2"
      },
      "source": [
        "# What strip() does?\n",
        "# It will strip either white space or \\n at the beginning and at the end.\n",
        "' Hello, World \\n'.strip() "
      ],
      "execution_count": null,
      "outputs": []
    },
    {
      "cell_type": "markdown",
      "metadata": {
        "id": "P7_P8tzje_pA"
      },
      "source": [
        "* We can also read all characters in advance with method `readlines()`, the result will be a list that contains lines as the following example:"
      ]
    },
    {
      "cell_type": "code",
      "metadata": {
        "id": "FRk3pcHNfOxM"
      },
      "source": [
        "lines = open('test.txt').readlines()\n",
        "print(lines)\n",
        "for i in range(len(lines)):\n",
        "  lines[i] = int(lines[i].strip())\n",
        "print(lines)"
      ],
      "execution_count": null,
      "outputs": []
    },
    {
      "cell_type": "markdown",
      "metadata": {
        "id": "eOa-Sm1ngi1S"
      },
      "source": [
        "* We can append the additional text (aka. line) at the end of an existing file."
      ]
    },
    {
      "cell_type": "code",
      "metadata": {
        "id": "GWnbPgC5gsEH"
      },
      "source": [
        "fhd01 = open('test.txt', 'a') # note that we assign the parameter 'a' here\n",
        "fhd01.write('60\\n')\n",
        "fhd01.write('70\\n')\n",
        "fhd01.write('80\\n')\n",
        "fhd01.write('90\\n')\n",
        "fhd01.write('100\\n')\n",
        "fhd01.close()\n",
        "\n",
        "fhd01 = open('test.txt')\n",
        "lines = fhd01.readlines()\n",
        "fhd01.close()\n",
        "print(lines)"
      ],
      "execution_count": null,
      "outputs": []
    },
    {
      "cell_type": "markdown",
      "metadata": {
        "id": "034k9C87gJGw"
      },
      "source": [
        "##Your exercise 11:"
      ]
    },
    {
      "cell_type": "markdown",
      "metadata": {
        "id": "Hb73uCr8gPKl"
      },
      "source": [
        "a) From the above `test.txt` file that contains\n",
        "```python\n",
        "['10\\n', '20\\n', '30\\n', '40\\n', '50\\n', '60\\n', '70\\n', '80\\n', '90\\n', '100\\n']\n",
        "```\n",
        "create a new file called `test2.txt` that has only line whose integer value is divisible by 20. Then read the resulting `test2.txt` and print all of its lines."
      ]
    },
    {
      "cell_type": "code",
      "metadata": {
        "id": "K6F99mHhhd88"
      },
      "source": [
        "print(lines)\n",
        "\n",
        "# your code here\n",
        "\n",
        "print('') # need ['20\\n', '40\\n', '60\\n', '80\\n', '100\\n'] as output"
      ],
      "execution_count": null,
      "outputs": []
    },
    {
      "cell_type": "markdown",
      "metadata": {
        "id": "i5B4ihVhilFd"
      },
      "source": [
        "b) Given a positive input integer from the user (<10), write the output as the following example to file `test3.txt`.\n",
        "\n",
        "```python\n",
        "Enter an integer: 5↵\n",
        "50   40   30   20   10\n",
        "40   30   20   10\n",
        "30   20   10\n",
        "20   10\n",
        "10\n",
        "The above 5 lines will be written to test3.txt\n",
        "Done..\n",
        "```\n",
        "\n",
        "You can use this code fragment to read and print the resulting file `test3.txt`:\n",
        "\n",
        "```python\n",
        "ifhd = open('test3.txt')\n",
        "for line in ifhd:\n",
        "  print(line.strip())\n",
        "ifhd.close()\n",
        "```"
      ]
    },
    {
      "cell_type": "code",
      "metadata": {
        "id": "agBdf_kelnp-"
      },
      "source": [
        "n = int(input('Enter n: '))\n",
        "\n",
        "ofhd = open('test3.txt', 'w')\n",
        "\n",
        "for i in __________ :\n",
        "  for j in __________ :\n",
        "    ofhd.write( __________ )\n",
        "  ofhd.write('\\n')\n",
        "\n",
        "ofhd.close()"
      ],
      "execution_count": null,
      "outputs": []
    },
    {
      "cell_type": "markdown",
      "metadata": {
        "id": "ZFIURFo2lkaQ"
      },
      "source": [
        "c) Read the above file `test3.txt`, and sum up the integers on each line.\n",
        "\n",
        "For example, if the content of `test3.txt` is as the following:\n",
        "\n",
        "```python\n",
        "50   40   30   20   10\n",
        "40   30   20   10\n",
        "30   20   10\n",
        "20   10\n",
        "10\n",
        "```\n",
        "\n",
        "The resulting output should be:\n",
        "\n",
        "```python\n",
        "150\n",
        "100\n",
        "60\n",
        "30\n",
        "10\n",
        "```"
      ]
    },
    {
      "cell_type": "markdown",
      "metadata": {
        "id": "9efXIyGqAkVU"
      },
      "source": [
        "##Basic OOP"
      ]
    },
    {
      "cell_type": "markdown",
      "metadata": {
        "id": "AervOhLHm_sO"
      },
      "source": [
        "* Sometime <font color='#00ff00'>Object Oriented Programming</font> (**OOP**) helps us to write the program to solve the computational problem in a <font color='#ffff00'>natural</font> way.\n",
        "\n",
        "* Let consider the following problem that we first write the Python code **procedurally**."
      ]
    },
    {
      "cell_type": "code",
      "metadata": {
        "id": "MjApxuHGBpxt"
      },
      "source": [
        "from math import pi # now we can use pi as 3.14159..\n",
        "\n",
        "# calcualte the circle's area\n",
        "def area_circle(circle):\n",
        "  return pi * circle['radius']**2\n",
        "\n",
        "# calcualte the circle's circumference\n",
        "def circumference_circle(circle):\n",
        "  return 2 * pi * circle['radius']\n",
        "\n",
        "# get the circle's color\n",
        "def color_circle(circle):\n",
        "  return circle['color']\n",
        "\n",
        "# calcualte the square's area\n",
        "def area_square(square):\n",
        "  return square['side']**2\n",
        "\n",
        "# calcualte the square's circumference\n",
        "def circumference_square(square):\n",
        "  return 4 * square['side']\n",
        "\n",
        "# get the square's color\n",
        "def color_square(square):\n",
        "  return square['color']\n",
        "\n",
        "print('Done..')"
      ],
      "execution_count": null,
      "outputs": []
    },
    {
      "cell_type": "code",
      "metadata": {
        "id": "MQZ1gm8aIvEF"
      },
      "source": [
        "# input a circle using dictionary\n",
        "circle1 = {'radius': 10.0, 'color': 'red'}\n",
        "circle2 = {'radius': 15.5, 'color': 'green'}\n",
        "circle3 = {'radius': 20.0, 'color': 'blue'}\n",
        "\n",
        "# input a square using dictionary\n",
        "square1 = {'side': 5.0, 'color': 'yellow'}\n",
        "square2 = {'side': 15.0, 'color': 'orange'}\n",
        "square3 = {'side': 25.75, 'color': 'pink'}\n",
        "\n",
        "print(f'Area of circle1 = {area_circle(circle1):.2f}')\n",
        "print(f'Circumference of circle2 = {circumference_circle(circle2):.2f}')\n",
        "print(f'Color of circle3 = {color_circle(circle3)}')\n",
        "print()\n",
        "\n",
        "print(f'Area of square1 = {area_square(square1):.2f}')\n",
        "print(f'Circumference of square2 = {circumference_square(square2):.2f}')\n",
        "print(f'Color of square3 = {color_square(square3)}')"
      ],
      "execution_count": null,
      "outputs": []
    },
    {
      "cell_type": "markdown",
      "metadata": {
        "id": "Ti-XGk6RCW6j"
      },
      "source": [
        "* Now we will solve the same problem in an OOP way."
      ]
    },
    {
      "cell_type": "markdown",
      "metadata": {
        "id": "JNmskqiD47BU"
      },
      "source": [
        "###Class"
      ]
    },
    {
      "cell_type": "markdown",
      "metadata": {
        "id": "B95IfMKP4_Po"
      },
      "source": [
        "* In OOP, we first define a <font color='#00a3ff'>blueprint</font>, called <font color='#00ffff'>class</font> in which any new object built from that class should be."
      ]
    },
    {
      "cell_type": "code",
      "metadata": {
        "id": "p1ztTYme52nc"
      },
      "source": [
        "class class_name:\n",
        "  class_body"
      ],
      "execution_count": null,
      "outputs": []
    },
    {
      "cell_type": "markdown",
      "metadata": {
        "id": "5ussHwjfBtQz"
      },
      "source": [
        "* class_body consists of functions, called later <font color='ffff00'>methods</font>.\n",
        "* An important method, `__init__`, called <font color='ffff00'>constructor</font>, helps create and initialize the new created object.\n",
        "* <font color='ffff00'>Constructor method</font> gets `self` as the first parameter which represents the new created object itself."
      ]
    },
    {
      "cell_type": "code",
      "metadata": {
        "id": "kLkx6LNx7Yom"
      },
      "source": [
        "class Circle:\n",
        "  \"\"\"\n",
        "    Text in this area, called 'docstring', can be served as class description,\n",
        "    and be read by command 'help Circle'.\n",
        "  \"\"\"\n",
        "  def __init__(self, color, radius):\n",
        "    self.color = color\n",
        "    self.radius = radius\n",
        "\n",
        "print('Done..')\n",
        "#help(Circle)"
      ],
      "execution_count": null,
      "outputs": []
    },
    {
      "cell_type": "markdown",
      "metadata": {
        "id": "J2RlLlhH8SlS"
      },
      "source": [
        "* We can also define the rest of <font color='ffff00'>utility methods</font> for an object in this class."
      ]
    },
    {
      "cell_type": "code",
      "metadata": {
        "id": "ncXtGSko8iVH"
      },
      "source": [
        "from math import pi\n",
        "\n",
        "class Circle:\n",
        "  # Constructor\n",
        "  def __init__(self, radius, color):\n",
        "    # define an instance variable to keep radius\n",
        "    self.radius = radius     \n",
        "    # define another instance variable to keep color\n",
        "    self.color = color \n",
        "\n",
        "  # calculate the circle's area\n",
        "  def area(self):\n",
        "    return pi * self.radius**2\n",
        "\n",
        "  # calculate the circle's circumference\n",
        "  def circumference(self):\n",
        "    return 2 * pi * self.radius\n",
        "    \n",
        "  # get the color\n",
        "  def get_color(self):\n",
        "    return self.color\n",
        "\n",
        "  print('Done..')"
      ],
      "execution_count": null,
      "outputs": []
    },
    {
      "cell_type": "markdown",
      "metadata": {
        "id": "JNCBN7Ah9VeI"
      },
      "source": [
        "* Now we can create the above 3 circles using the class `Circle` blueprint that we have just defined."
      ]
    },
    {
      "cell_type": "code",
      "metadata": {
        "id": "0mn1E1zj9egM"
      },
      "source": [
        "circle1 = Circle(10.0, 'red')\n",
        "circle2 = Circle(15.5, 'green')\n",
        "circle3 = Circle(20.0, 'blue')"
      ],
      "execution_count": null,
      "outputs": []
    },
    {
      "cell_type": "markdown",
      "metadata": {
        "id": "wOL1XnDc-EWW"
      },
      "source": [
        "* <font color='ffff00'>Instance method</font> definded by `Circle` class can be called, using `<obejctName>.<methodName>(<parameters>)`. Note that we can call object as instance, or wise versa."
      ]
    },
    {
      "cell_type": "code",
      "metadata": {
        "id": "n3EAmqeC-E4a"
      },
      "source": [
        "print(f'Area of circle1 = {circle1.area():.2f}')\n",
        "print(f'Circumference of circle2 = {circle2.circumference():.2f}')\n",
        "print(f'Color of circle3 = {circle3.get_color()}')"
      ],
      "execution_count": null,
      "outputs": []
    },
    {
      "cell_type": "markdown",
      "metadata": {
        "id": "b7JGBMprBf_P"
      },
      "source": [
        "###Inheritance"
      ]
    },
    {
      "cell_type": "markdown",
      "metadata": {
        "id": "9ZzGjPCBB2AC"
      },
      "source": [
        "* A <font color='00ffff'>child class</font> can inherite both <font color='ffff00'>properties</font> and <font color='ffff00'>methods</font> from its <font color='00ffff'>parent class</font>.\n",
        "* Consider a parent class, called `Shape` that defines an instance variable `color` to keep the shape's color.\n",
        "* So, both `Circle` and `Square` can inherite the `color` property and `get_color()` method from their parent class, as shown in the following sample code."
      ]
    },
    {
      "cell_type": "code",
      "metadata": {
        "id": "AuKcD0YLkTI7"
      },
      "source": [
        "# parent class defintion\n",
        "class Shape: \n",
        "  def __init__(self, color):\n",
        "    self.color = color\n",
        "\n",
        "  def get_color(self):\n",
        "    return self.color\n",
        "\n",
        "print('Done..')"
      ],
      "execution_count": null,
      "outputs": []
    },
    {
      "cell_type": "markdown",
      "metadata": {
        "id": "u2Npyg9WkodQ"
      },
      "source": [
        "* We can define a new child class `Circle` that inherites from the existing parent class `Shape` like this."
      ]
    },
    {
      "cell_type": "code",
      "metadata": {
        "id": "B-6XzI_2lELT"
      },
      "source": [
        "from math import pi\n",
        "\n",
        "# child class\n",
        "class Circle(Shape):\n",
        "  def __init__(self, radius, color):\n",
        "    # call parent's constructor to initialize the color variable\n",
        "    super(Circle, self).__init__(color)\n",
        "    # then we initial other variable\n",
        "    self.radius = radius\n",
        "  \n",
        "  # calculate the circle's area\n",
        "  def area(self):\n",
        "    return pi * self.radius**2\n",
        "\n",
        "  # calculate the circle's circumference\n",
        "  def circumference(self):\n",
        "    return 2 * pi * self.radius\n",
        "\n",
        "  # no need to defind the get_color method, as we inherite it from the parent\n",
        "  print('Done..')"
      ],
      "execution_count": null,
      "outputs": []
    },
    {
      "cell_type": "code",
      "metadata": {
        "id": "SUWxZg03mNEA"
      },
      "source": [
        "my_circle = Circle(10, 'red')\n",
        "print(f'Area = {my_circle.area():.2f}')\n",
        "print(f'Circumference = {my_circle.circumference():.2f}')\n",
        "print(f'Color = {my_circle.get_color()}')"
      ],
      "execution_count": null,
      "outputs": []
    },
    {
      "cell_type": "markdown",
      "metadata": {
        "id": "YVjrVyLn_6fe"
      },
      "source": [
        "##Your exercise 12:"
      ]
    },
    {
      "cell_type": "markdown",
      "metadata": {
        "id": "OQh_yZpF__NB"
      },
      "source": [
        "a) Following the above sample class `Circle`, finish the `Square` class defintion."
      ]
    },
    {
      "cell_type": "code",
      "metadata": {
        "id": "2UI-tsX2AhUS"
      },
      "source": [
        "# add you code as needed\n",
        "class Square:\n",
        "  # Constructor\n",
        "  def __init__(self, __________ ):\n",
        "    # define an instance variable to keep side\n",
        "    __________    \n",
        "    #define another instance variable to keep color\n",
        "    __________\n",
        "        \n",
        "  # Calculate the square's area\n",
        "  def area(self):\n",
        "    __________\n",
        "        \n",
        "  # calculate the square's circumference\n",
        "  def circumference(self):\n",
        "    __________\n",
        "\n",
        "  # get the coloe\n",
        "  def get_color(self):\n",
        "    __________\n",
        "\n",
        "square1 = Square(5.0, 'yellow')\n",
        "square2 = Square(15.0, 'orange')\n",
        "square3 = Square(25.75, 'pink')\n",
        "\n",
        "print(f'Area of square1 = {square1.area():.2f}')\n",
        "print(f'Circumference of square2 = {square2.circumference():.2f}')\n",
        "print(f'Color of square3 = {square3.get_color()}')\n",
        "# put more codes to test your class defintion"
      ],
      "execution_count": null,
      "outputs": []
    },
    {
      "cell_type": "markdown",
      "metadata": {
        "id": "s3Y3soKCm-Ez"
      },
      "source": [
        "b) Following the above inherite class `Circle`, finish the `Square` class definition."
      ]
    },
    {
      "cell_type": "code",
      "metadata": {
        "id": "_BsLXFyTn2EE"
      },
      "source": [
        "class Square(Shape):\n",
        "    \n",
        "  def __init__(self, side, color):\n",
        "        \n",
        "    # call the parent constructor to initialize the variable color\n",
        "    __________\n",
        "       \n",
        "    # initialize the variable side\n",
        "    __________\n",
        "        \n",
        "  # calculate the ares\n",
        "  def area(self):\n",
        "    __________\n",
        "        \n",
        "  # calculate the circumference\n",
        "  def circumference(self):\n",
        "    __________\n",
        "\n",
        "# Put more codes here to test your class definition\n",
        "# You may perhaps to redefine the parent class Shape too"
      ],
      "execution_count": null,
      "outputs": []
    },
    {
      "cell_type": "markdown",
      "metadata": {
        "id": "JXPfLmkMBq9O"
      },
      "source": [
        "\n",
        "\n",
        "---\n",
        "\n",
        "\n"
      ]
    },
    {
      "cell_type": "markdown",
      "metadata": {
        "id": "mUBrf8JVtcbH"
      },
      "source": [
        "##Supplementary Question (Advance level)"
      ]
    },
    {
      "cell_type": "code",
      "metadata": {
        "id": "iIGMUtAut6vC"
      },
      "source": [
        "# Load the Drive helper and mount\n",
        "from google.colab import drive\n",
        "\n",
        "# This will prompt for authorization\n",
        "drive.mount('/content/drive')"
      ],
      "execution_count": null,
      "outputs": []
    },
    {
      "cell_type": "code",
      "metadata": {
        "id": "fEWlLpSQxYDQ"
      },
      "source": [
        "# After executing the above cell, files will be present in /content/drive/My Drive\n",
        "!ls '/content/drive/My Drive'"
      ],
      "execution_count": null,
      "outputs": []
    },
    {
      "cell_type": "code",
      "metadata": {
        "id": "-PewjIdLxtME"
      },
      "source": [
        "# Now, create a directory in your google drive, \n",
        "# e.g. /content/drive/My Drive/dat_training\n",
        "# and define your path of the input files\n",
        "data_path = '/content/drive/My Drive/data_training/'"
      ],
      "execution_count": null,
      "outputs": []
    },
    {
      "cell_type": "code",
      "metadata": {
        "id": "3T_7R1RI1V3Z"
      },
      "source": [
        "# open these Cities.csv and Countries.csv files\n",
        "# (https://bit.ly/2vXdYfZ, https://bit.ly/2IBVfcL)\n",
        "# download and save them to your Google Drive --> 'data_path'\n",
        "DATA_CITIES = data_path + 'Cities.csv'\n",
        "DATA_COUNTRIES = data_path + 'Countries.csv'"
      ],
      "execution_count": null,
      "outputs": []
    },
    {
      "cell_type": "markdown",
      "metadata": {
        "id": "WH9mqH2334pD"
      },
      "source": [
        "###Question:\n",
        "1. Which is the western-most country with no coastline? \n",
        "* `Western-most country with no coastline is [Andorra] at 1.52 longtitude.`\n",
        "2. Which are the two closest cities? \n",
        "* `Ciry [Ancona] in Italy is the closest city with [Sarajevo] in Bosnia and Herzegovina.`\n",
        "---\n"
      ]
    }
  ]
}